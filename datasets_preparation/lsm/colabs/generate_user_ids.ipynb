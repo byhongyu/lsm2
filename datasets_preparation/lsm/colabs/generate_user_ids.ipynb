{
  "cells": [
    {
      "cell_type": "markdown",
      "metadata": {
        "id": "jIhaQa5iqpn6"
      },
      "source": [
        "https://grants.corp.google.com/#/grants?request=20h%2Fchr-ards-fitbit-prod-research-deid-eng-team:r\u0026reason=%22b%2F285178698%22"
      ]
    },
    {
      "cell_type": "markdown",
      "metadata": {
        "id": "2WrSq1RTF4Pp"
      },
      "source": [
        "Colab Kernel: Fitbit Prod Research Colab and please follow the steps:\n",
        "\n",
        "- Use the Fitbit prod kernel;\n",
        "- Restart the session;\n",
        "- Add import tensorflow_datasets as tfds to the top; -\n",
        "- Run ad_hoc import.\n"
      ]
    },
    {
      "cell_type": "code",
      "execution_count": null,
      "metadata": {
        "id": "f6UHH5QPjk4r"
      },
      "outputs": [],
      "source": [
        "from colabtools import adhoc_import\n",
        "from colabtools import f1\n",
        "\n",
        "from google3.pyglib import gfile\n",
        "import pandas as pd"
      ]
    },
    {
      "cell_type": "code",
      "execution_count": null,
      "metadata": {
        "id": "YGQhKt2akQmh"
      },
      "outputs": [],
      "source": [
        "DATA_KEY_TYPE = 'TIER2_SITE_DATA'\n",
        "DATABASE_PATH = '/span/nonprod/consumer-health-research:fitbit-prod-research'\n",
        "\n",
        "\n",
        "data_key_type_str = f\"'{DATA_KEY_TYPE}'\"\n",
        "user_ids_df = f1.Execute(f\"\"\"\n",
        "  SELECT DataKey.session_id\n",
        "  FROM {DATABASE_PATH}.DataStorage\n",
        "  WHERE\n",
        "    StorageKey = 'momentary_stress_algorithm'\n",
        "    AND DataKey.type = {data_key_type_str}\n",
        "\"\"\")"
      ]
    },
    {
      "cell_type": "code",
      "execution_count": null,
      "metadata": {
        "id": "1ereBOS2-zKj"
      },
      "outputs": [],
      "source": [
        "user_ids_df.shape"
      ]
    },
    {
      "cell_type": "code",
      "execution_count": null,
      "metadata": {
        "id": "QEIzs6ZTkv9w"
      },
      "outputs": [],
      "source": [
        "WRITE_NEW_FILES = False\n",
        "fp = '/namespace/fitbit-medical-sandboxes/jg/partner/encrypted/chr-ards-fitbit-prod-research/deid/exp/dmcduff/ttl=52w/lsm_v2/datasets/raw/sessions.csv'\n",
        "if WRITE_NEW_FILES:\n",
        "  with gfile.Open(fp, 'w') as f:\n",
        "    user_ids_df.to_csv(f, index=False)\n",
        "else:\n",
        "  with gfile.Open(fp, 'r') as f:\n",
        "    user_ids_df = pd.read_csv(f)\n",
        "ids = user_ids_df['session_id']"
      ]
    },
    {
      "cell_type": "code",
      "execution_count": null,
      "metadata": {
        "id": "URNhb08NBayy"
      },
      "outputs": [],
      "source": [
        "ids.shape"
      ]
    },
    {
      "cell_type": "markdown",
      "metadata": {
        "id": "GqdwWOaLkVMT"
      },
      "source": [
        "# Module Test"
      ]
    },
    {
      "cell_type": "code",
      "execution_count": null,
      "metadata": {
        "id": "3QNPojAjjk2v"
      },
      "outputs": [],
      "source": [
        "with adhoc_import.Google3CitcClient(\n",
        "    'lsm_v2_data_gen_fix_end_2024',\n",
        "    username='xliucs',\n",
        "    behavior='fallback', # Run this after \"preferred\".\n",
        "    # behavior='preferred', # Run this first then comment out the next line.\n",
        "    build_targets=[\n",
        "        '//medical/waveforms/modelling/lsm/datasets/lsm:download_and_prepare'\n",
        "    ],\n",
        "):\n",
        "  from google3.medical.waveforms.modelling.lsm.datasets.lsm import sensors\n",
        "  sensors = adhoc_import.Reload(sensors, reset_flags=True)\n"
      ]
    },
    {
      "cell_type": "code",
      "execution_count": null,
      "metadata": {
        "id": "yLc18Ntbjk0f"
      },
      "outputs": [],
      "source": [
        "iter = sensors.window(ids[:2], '10080min', 's', 36)\n",
        "key, data = next(iter)"
      ]
    },
    {
      "cell_type": "code",
      "execution_count": null,
      "metadata": {
        "id": "uJinFsCk224S"
      },
      "outputs": [],
      "source": [
        "data['input_signal'].shape"
      ]
    },
    {
      "cell_type": "code",
      "execution_count": null,
      "metadata": {
        "id": "Ke1QenzkEmnF"
      },
      "outputs": [],
      "source": [
        "from matplotlib import pyplot as plt\n",
        "plt.imshow(data['input_signal'].T, aspect='auto')"
      ]
    }
  ],
  "metadata": {
    "colab": {
      "last_runtime": {
        "build_target": "//fitbit/research/sensing/fitbit_prod_research/colab_algo:rl_colab",
        "kind": "shared"
      },
      "private_outputs": true,
      "provenance": [
        {
          "file_id": "/piper/depot/google3/medical/waveforms/modelling/lsm/datasets/lsm/colabs/generate_user_ids.ipynb",
          "timestamp": 1741577149842
        },
        {
          "file_id": "/piper/depot/google3/medical/waveforms/modelling/lsm/datasets/lsm/colabs/generate_user_ids.ipynb?workspaceId=xliucs:lsm_v2_data_pipeline::citc",
          "timestamp": 1733367255696
        },
        {
          "file_id": "1AZZUfEAO5-VVku-BBQkuC8lYm9BwqAxy",
          "timestamp": 1729723509039
        },
        {
          "file_id": "/piper/depot/google3/experimental/users/shunl/face_fm/vivit/colabs/[LSM]_tier2_data_loading_lsm.ipynb?workspaceId=shunl:lsm::citc",
          "timestamp": 1729645821751
        },
        {
          "file_id": "1Pevj3YY1GLPX2yUH0O3W7P7f1HUS2tYt",
          "timestamp": 1729645487277
        },
        {
          "file_id": "/piper/depot/google3/fitbit/research/sensing/fitbit_prod_research/colab/tier2_data_loading_template.ipynb",
          "timestamp": 1726772561182
        },
        {
          "file_id": "1HQmTynQSVfddpMBjvEngOtUwRYiia8K4",
          "timestamp": 1705949665959
        },
        {
          "file_id": "1nEb3OQT9gSbI3zvgj_UmOEhJCH9zQVM6",
          "timestamp": 1705947418217
        },
        {
          "file_id": "14o84-SGuhW4cYIzKRLRkiay54hwZwZ0Q",
          "timestamp": 1702516549535
        }
      ]
    },
    "kernelspec": {
      "display_name": "Python 3",
      "name": "python3"
    },
    "language_info": {
      "name": "python"
    }
  },
  "nbformat": 4,
  "nbformat_minor": 0
}
