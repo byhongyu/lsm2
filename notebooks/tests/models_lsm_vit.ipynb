{
  "cells": [
    {
      "cell_type": "code",
      "execution_count": null,
      "metadata": {
        "id": "wYV1QS3lqueM"
      },
      "outputs": [],
      "source": [
        "# @title Imports\n",
        "\n",
        "import functools\n",
        "import json\n",
        "\n",
        "from flax import jax_utils\n",
        "import jax\n",
        "import jax.numpy as jnp\n",
        "import matplotlib.pyplot as plt\n",
        "import ml_collections\n",
        "import numpy as np\n",
        "import pandas as pd\n",
        "import tensorflow as tf\n",
        "import tensorflow_datasets as tfds\n",
        "\n",
        "from google3.pyglib import build_data\n",
        "from google3.pyglib import gfile\n",
        "# build_data.Changelist()\n",
        "\n",
        "from colabtools import adhoc_import\n",
        "# this is necessary, otherwise breaks the adhoc_import.Google3CitcClient imports\n",
        "with adhoc_import.Google3():\n",
        "  from scenic.model_lib.base_models import base_model\n",
        "  from scenic.projects.multimask.models import model_utils as mm_model_utils\n",
        "  from scenic.model_lib.base_models import model_utils\n",
        "\n",
        "# this needs to run for some reason, otherwise adhoc_import.Google3CitcClient import breaks\n",
        "tf.data.Dataset"
      ]
    },
    {
      "cell_type": "code",
      "execution_count": null,
      "metadata": {
        "id": "BuJRH2ug5QRd"
      },
      "outputs": [],
      "source": []
    },
    {
      "cell_type": "code",
      "execution_count": null,
      "metadata": {
        "id": "tgCc75gb5QUG"
      },
      "outputs": [],
      "source": []
    },
    {
      "cell_type": "markdown",
      "metadata": {
        "id": "NhWI5XNlh2IN"
      },
      "source": [
        "# ViTMAE.\\_\\_call\\_\\_ test"
      ]
    },
    {
      "cell_type": "code",
      "execution_count": null,
      "metadata": {
        "id": "TRNGSmlx5QWn"
      },
      "outputs": [],
      "source": [
        "from importlib import reload\n",
        "from colabtools import adhoc_import\n",
        "\n",
        "with adhoc_import.Google3CitcClient(\n",
        "    'lsm3_bettermae_25_2_12', username='xumax', behavior='preferred'\n",
        "):\n",
        "  from google3.experimental.largesensormodels.scenic.models import lsm_vit\n",
        "  lsm_vit = reload(lsm_vit)\n",
        "  ViTMAE = lsm_vit.ViTMAE\n",
        "\n",
        "  from google3.experimental.largesensormodels.scenic.configs.lsm_v2_pretraining import mae_lsm_v2_small\n",
        "  mae_lsm_v2_small = reload(mae_lsm_v2_small)\n",
        "  config = mae_lsm_v2_small.get_config(runlocal=\"True\")\n",
        "\n",
        "\n",
        "  from google3.experimental.largesensormodels.scenic.configs.lsm_v2_pretraining import mae_lsm_v2_small\n",
        "  mae_lsm_v2_small = reload(mae_lsm_v2_small)\n",
        "  config = mae_lsm_v2_small.get_config(runlocal=\"True\")"
      ]
    },
    {
      "cell_type": "code",
      "execution_count": null,
      "metadata": {
        "id": "bbcA11Uz5ZDO"
      },
      "outputs": [],
      "source": [
        "num_classes = np.prod(tuple(config.model.patches.size)) * 1\n",
        "\n",
        "model = ViTMAE(config = config,\n",
        "                num_classes = num_classes,\n",
        "                mlp_dim=config.model.mlp_dim,\n",
        "                num_layers=config.model.num_layers,\n",
        "                num_heads=config.model.num_heads,\n",
        "                patches=config.model.patches,\n",
        "                hidden_size=config.model.hidden_size,\n",
        "                token_mask_probability=(\n",
        "                    config.masked_feature_loss.token_mask_probability\n",
        "                ),\n",
        "                decoder_config=config.model.decoder_config,\n",
        ")\n",
        "batch_size=16\n",
        "height=1440\n",
        "width=32\n",
        "channels=1\n",
        "x = np.ones([batch_size, height, width, channels])"
      ]
    },
    {
      "cell_type": "code",
      "execution_count": null,
      "metadata": {
        "id": "dfbya70Z5ZGM"
      },
      "outputs": [],
      "source": [
        "# @title mask_oncpu==False and train==True\n",
        "\n",
        "mask_indices = None\n",
        "unmasked_indices = None\n",
        "token_mask = None\n",
        "train = False\n",
        "\n",
        "key = jax.random.PRNGKey(0)  # PRNG key for initialization\n",
        "\n",
        "variables = model.init(\n",
        "    key,\n",
        "    x=x,\n",
        "    mask_indices=mask_indices,\n",
        "    unmasked_indices=unmasked_indices,\n",
        "    token_mask=token_mask,\n",
        "    train=train,\n",
        ")\n",
        "\n",
        "output = model.apply(\n",
        "    variables,\n",
        "    x=x,\n",
        "    mask_indices=mask_indices,\n",
        "    unmasked_indices=unmasked_indices,\n",
        "    token_mask=token_mask,\n",
        "    train=train,\n",
        ")"
      ]
    },
    {
      "cell_type": "code",
      "execution_count": null,
      "metadata": {
        "id": "8ca6MYFzr7C-"
      },
      "outputs": [],
      "source": [
        "# @title mask_oncpu==False and train==True\n",
        "\n",
        "mask_indices =\n",
        "unmasked_indices = None\n",
        "token_mask = None\n",
        "train = False\n",
        "\n",
        "key = jax.random.PRNGKey(0)  # PRNG key for initialization\n",
        "\n",
        "variables = model.init(\n",
        "    key,\n",
        "    x=x,\n",
        "    mask_indices=mask_indices,\n",
        "    unmasked_indices=unmasked_indices,\n",
        "    token_mask=token_mask,\n",
        "    train=train,\n",
        ")\n",
        "\n",
        "output = model.apply(\n",
        "    variables,\n",
        "    x=x,\n",
        "    mask_indices=mask_indices,\n",
        "    unmasked_indices=unmasked_indices,\n",
        "    token_mask=token_mask,\n",
        "    train=train,\n",
        ")"
      ]
    },
    {
      "cell_type": "code",
      "execution_count": null,
      "metadata": {
        "id": "F6SERhI95dfn"
      },
      "outputs": [],
      "source": [
        "# @title mask_oncpu==False and train==False (train is usually never false, unless this ViT is being used as an embedding function)\n",
        "\n",
        "mask_indices = None\n",
        "unmasked_indices = None\n",
        "token_mask = None\n",
        "train = False\n",
        "\n",
        "key = jax.random.PRNGKey(0)  # PRNG key for initialization\n",
        "\n",
        "variables = model.init(\n",
        "    key,\n",
        "    x=x,\n",
        "    mask_indices=mask_indices,\n",
        "    unmasked_indices=unmasked_indices,\n",
        "    token_mask=token_mask,\n",
        "    train=train,\n",
        ")\n",
        "\n",
        "output = model.apply(\n",
        "    variables,\n",
        "    x=x,\n",
        "    mask_indices=mask_indices,\n",
        "    unmasked_indices=unmasked_indices,\n",
        "    token_mask=token_mask,\n",
        "    train=train,\n",
        ")"
      ]
    },
    {
      "cell_type": "code",
      "execution_count": null,
      "metadata": {
        "id": "KBYnwTKu5dli"
      },
      "outputs": [],
      "source": []
    },
    {
      "cell_type": "code",
      "execution_count": null,
      "metadata": {
        "id": "nogyxMnY5joG"
      },
      "outputs": [],
      "source": []
    },
    {
      "cell_type": "code",
      "execution_count": null,
      "metadata": {
        "id": "hh7Z3erT5jqM"
      },
      "outputs": [],
      "source": []
    },
    {
      "cell_type": "code",
      "execution_count": null,
      "metadata": {
        "id": "WqqzwFta5ZI6"
      },
      "outputs": [],
      "source": []
    },
    {
      "cell_type": "code",
      "execution_count": null,
      "metadata": {
        "id": "6lxazsvd5ZLE"
      },
      "outputs": [],
      "source": []
    },
    {
      "cell_type": "code",
      "execution_count": null,
      "metadata": {
        "id": "9WNIWkFX5QZT"
      },
      "outputs": [],
      "source": []
    },
    {
      "cell_type": "code",
      "execution_count": null,
      "metadata": {
        "id": "LKGFl4FX5Qit"
      },
      "outputs": [],
      "source": []
    },
    {
      "cell_type": "markdown",
      "metadata": {
        "id": "l-zO9wSJ1YDi"
      },
      "source": [
        "# regression_metrics_function test"
      ]
    },
    {
      "cell_type": "code",
      "execution_count": null,
      "metadata": {
        "id": "STBeC9N-rTsb"
      },
      "outputs": [],
      "source": [
        "from importlib import reload\n",
        "from colabtools import adhoc_import\n",
        "\n",
        "with adhoc_import.Google3CitcClient(\n",
        "    'lsm_fixmaskbug_25_2_10', username='xumax', behavior='preferred'\n",
        "):\n",
        "  from google3.experimental.largesensormodels.scenic.models import lsm_vit\n",
        "\n",
        "  lsm_vit = reload(lsm_vit)\n",
        "  regression_metrics_function = lsm_vit.regression_metrics_function\n",
        "  _REGRESSION_METRICS = lsm_vit._REGRESSION_METRICS"
      ]
    },
    {
      "cell_type": "code",
      "execution_count": null,
      "metadata": {
        "id": "oAejcAZqQE6l"
      },
      "outputs": [],
      "source": [
        "num_patches = 100\n",
        "patch_size = 10\n",
        "batch_size = 16\n",
        "\n",
        "predictions = jnp.ones((batch_size, num_patches, patch_size))\n",
        "prediction_masks = jnp.ones((batch_size, num_patches))\n",
        "prediction_masks = prediction_masks.at[\n",
        "    : batch_size // 2, : num_patches // 2\n",
        "].set(0)\n",
        "\n",
        "targets = jnp.arange(num_patches * patch_size)\n",
        "targets = jnp.repeat(targets, repeats=batch_size, axis=0).reshape(\n",
        "    batch_size, num_patches, patch_size\n",
        ")\n",
        "\n",
        "batch_mask = jnp.ones((batch_size))\n",
        "batch_mask = batch_mask.at[-1].set(0)\n",
        "\n",
        "patched_imputationmask = jnp.ones((batch_size, num_patches, patch_size))\n",
        "patched_imputationmask = patched_imputationmask.at[\n",
        "    : batch_size * 3 // 4, : num_patches * 3 // 4, : patch_size // 2\n",
        "].set(0)\n",
        "\n",
        "\n",
        "batch = {\n",
        "    \"targets\": targets,\n",
        "    \"batch_mask\": batch_mask,\n",
        "    \"patched_imputationmask\": patched_imputationmask,\n",
        "}\n",
        "\n",
        "# we use replicate to create a dummy batch dimension\n",
        "# this allows the pmap function to more closely match the jax splits such that\n",
        "# every split includes the batch dimension\n",
        "batch_rep = jax_utils.replicate(batch)\n",
        "prediction_masks_rep = jax_utils.replicate(prediction_masks)\n",
        "predictions_rep = jax_utils.replicate(predictions)\n",
        "\n",
        "metrics = _REGRESSION_METRICS\n",
        "# print(metrics)\n",
        "# print(batch_rep[\"targets\"].shape)\n",
        "# print(batch_rep[\"batch_mask\"].shape)\n",
        "# print(batch_rep[\"patched_imputationmask\"].shape)\n",
        "\n",
        "# print(prediction_masks_rep.shape)\n",
        "# print(predictions_rep.shape)\n",
        "\n",
        "regression_metrics_function_partial_init = functools.partial(\n",
        "    regression_metrics_function, metrics=metrics\n",
        ")\n",
        "\n",
        "metrics_fn_pmapped = jax.pmap(\n",
        "    regression_metrics_function_partial_init, axis_name=\"batch\"\n",
        ")\n",
        "out = metrics_fn_pmapped(predictions_rep, prediction_masks_rep, batch_rep)\n",
        "\n",
        "out = jax_utils.unreplicate(out)"
      ]
    },
    {
      "cell_type": "code",
      "execution_count": null,
      "metadata": {
        "id": "HuBJPD-2r3uT"
      },
      "outputs": [],
      "source": [
        "# no drop outs\n",
        "diff = predictions - targets\n",
        "assert np.allclose(\n",
        "    np.sum(np.abs(diff)) / diff.size * 16, out[\"mean_absolute_error_all\"][0]\n",
        ")\n",
        "assert np.allclose(\n",
        "    np.sum(np.square(diff)) / diff.size * 16, out[\"mean_squared_error_all\"][0]\n",
        ")\n",
        "currmask = np.ones(diff.shape)  # alternative testing method\n",
        "assert np.allclose(\n",
        "    np.sum(np.sum(np.abs(diff), axis=(1, 2)) / np.sum(currmask, axis=(1, 2))),\n",
        "    out[\"mean_absolute_error_all\"][0],\n",
        ")\n",
        "assert np.allclose(\n",
        "    np.sum(\n",
        "        np.sum(np.square(diff), axis=(1, 2)) / np.sum(currmask, axis=(1, 2))\n",
        "    ),\n",
        "    out[\"mean_squared_error_all\"][0],\n",
        ")\n",
        "\n",
        "# dropping out masking mask\n",
        "currmask = np.ones(diff.shape) * (prediction_masks[:, :, None])\n",
        "diff_masked = currmask * predictions - currmask * targets\n",
        "assert np.allclose(\n",
        "    np.sum(\n",
        "        np.sum(np.abs(diff_masked), axis=(1, 2)) / np.sum(currmask, axis=(1, 2))\n",
        "    ),\n",
        "    out[\"mean_absolute_error_masked\"][0],\n",
        ")\n",
        "assert np.allclose(\n",
        "    np.sum(\n",
        "        np.sum(np.square(diff_masked), axis=(1, 2))\n",
        "        / np.sum(currmask, axis=(1, 2))\n",
        "    ),\n",
        "    out[\"mean_squared_error_masked\"][0],\n",
        ")\n",
        "\n",
        "# dropping out masking mask and patched imputation mask\n",
        "currmask = (\n",
        "    np.ones(diff.shape)\n",
        "    * (prediction_masks[:, :, None])\n",
        "    * (jnp.logical_not(patched_imputationmask))\n",
        ")\n",
        "diff_masked_ignoreimp = currmask * predictions - currmask * targets\n",
        "assert np.allclose(\n",
        "    np.nansum(\n",
        "        np.sum(np.abs(diff_masked_ignoreimp), axis=(1, 2))\n",
        "        / np.sum(currmask, axis=(1, 2))\n",
        "    ),\n",
        "    out[\"mean_absolute_error_masked_ignoreimp\"][0],\n",
        ")\n",
        "assert np.allclose(\n",
        "    np.nansum(\n",
        "        np.sum(np.square(diff_masked_ignoreimp), axis=(1, 2))\n",
        "        / np.sum(currmask, axis=(1, 2))\n",
        "    ),\n",
        "    out[\"mean_squared_error_masked_ignoreimp\"][0],\n",
        ")\n",
        "\n",
        "assert (\n",
        "    np.sum(jnp.logical_not(patched_imputationmask))\n",
        "    == batch_size * 3 // 4 * num_patches * 3 // 4 * patch_size // 2\n",
        ")\n",
        "\n",
        "out"
      ]
    },
    {
      "cell_type": "markdown",
      "metadata": {
        "id": "zPMEPtvz1c0H"
      },
      "source": [
        "# ViTMAESingleChannelModel.loss_function test"
      ]
    },
    {
      "cell_type": "code",
      "execution_count": null,
      "metadata": {
        "id": "hdYUTfNSeK3T"
      },
      "outputs": [],
      "source": [
        "from importlib import reload\n",
        "from colabtools import adhoc_import\n",
        "\n",
        "with adhoc_import.Google3CitcClient(\n",
        "    'lsm_fixmaskbug_25_2_10', username='xumax', behavior='preferred'\n",
        "):\n",
        "  from google3.experimental.largesensormodels.scenic.models import lsm_vit\n",
        "\n",
        "  lsm_vit = reload(lsm_vit)\n",
        "  ViTMAESingleChannelModel = lsm_vit.ViTMAESingleChannelModel"
      ]
    },
    {
      "cell_type": "code",
      "execution_count": null,
      "metadata": {
        "id": "UBbppfDySAYo"
      },
      "outputs": [],
      "source": [
        "class FakeViTMAESingleChannelModel(ViTMAESingleChannelModel):\n",
        "  \"\"\"A dummy regression model for testing purposes.\"\"\"\n",
        "\n",
        "  def __init__(self):\n",
        "    dataset_meta_data = {}\n",
        "    super().__init__(\n",
        "        ml_collections.ConfigDict({\n",
        "            \"masked_feature_loss\": {\n",
        "                \"loss_only_masked_tokens\": True,\n",
        "                \"loss_type\": \"squared\",\n",
        "            }\n",
        "        }),\n",
        "        dataset_meta_data,\n",
        "    )\n",
        "\n",
        "  def build_flax_model(self):\n",
        "    pass\n",
        "\n",
        "  def default_flax_model_config(self):\n",
        "    pass"
      ]
    },
    {
      "cell_type": "code",
      "execution_count": null,
      "metadata": {
        "id": "uEcep0JDDLof"
      },
      "outputs": [],
      "source": [
        "model = FakeViTMAESingleChannelModel()"
      ]
    },
    {
      "cell_type": "code",
      "execution_count": null,
      "metadata": {
        "id": "4090DYDsDUNk"
      },
      "outputs": [],
      "source": [
        "num_patches = 100\n",
        "patch_size = 10\n",
        "batch_size = 16\n",
        "\n",
        "predictions = jnp.ones((batch_size, num_patches, patch_size))\n",
        "prediction_masks = jnp.ones((batch_size, num_patches))\n",
        "prediction_masks = prediction_masks.at[\n",
        "    : batch_size // 2, : num_patches // 2\n",
        "].set(0)\n",
        "\n",
        "targets = jnp.arange(num_patches * patch_size)\n",
        "targets = jnp.repeat(targets, repeats=batch_size, axis=0).reshape(\n",
        "    batch_size, num_patches, patch_size\n",
        ")\n",
        "batch_mask = jnp.ones((batch_size))\n",
        "batch_mask = batch_mask.at[-1].set(0)\n",
        "patched_imputationmask = jnp.ones((batch_size, num_patches, patch_size))\n",
        "patched_imputationmask = patched_imputationmask.at[\n",
        "    : batch_size * 3 // 4, : num_patches * 3 // 4, : patch_size // 2\n",
        "].set(0)\n",
        "\n",
        "\n",
        "batch = {\n",
        "    \"targets\": targets,\n",
        "    \"batch_mask\": batch_mask,\n",
        "    \"patched_imputationmask\": patched_imputationmask,\n",
        "}"
      ]
    },
    {
      "cell_type": "code",
      "execution_count": null,
      "metadata": {
        "id": "PRJX-OsijLwQ"
      },
      "outputs": [],
      "source": [
        "loss = model.loss_function(\n",
        "    predictions=predictions,\n",
        "    batch=batch,\n",
        "    prediction_masks=prediction_masks,\n",
        "    loss_ignore_imputation=True,\n",
        ")\n",
        "\n",
        "currmask = (\n",
        "    np.ones(diff.shape)\n",
        "    * (prediction_masks[:, :, None])\n",
        "    * (jnp.logical_not(patched_imputationmask))\n",
        ")\n",
        "assert np.allclose(\n",
        "    loss,\n",
        "    np.nansum(\n",
        "        (\n",
        "            np.sum(np.square(diff_masked_ignoreimp), axis=(1, 2))\n",
        "            / np.sum(currmask, axis=(1, 2))\n",
        "        )[:-1] # this is because of batch_mask\n",
        "    )\n",
        "    / 15,\n",
        ")"
      ]
    },
    {
      "cell_type": "code",
      "execution_count": null,
      "metadata": {
        "id": "_KC09sgbjLy3"
      },
      "outputs": [],
      "source": [
        "# @title Example of Test Function that uses pmap\n",
        "from flax import jax_utils\n",
        "import jax\n",
        "import functools\n",
        "import jax.numpy as jnp\n",
        "from scenic.model_lib.base_models import base_model\n",
        "from scenic.model_lib.base_models import model_utils\n",
        "\n",
        "\n",
        "\n",
        "def loss_function_new(\n",
        "                    predictions: jnp.ndarray,\n",
        "                    batch: base_model.Batch) -\u003e float:\n",
        "    weights = batch.get('batch_mask')\n",
        "    print(weights)\n",
        "    targets = batch['targets']\n",
        "    print(targets.shape)\n",
        "    print(predictions.shape)\n",
        "\n",
        "    total_loss = model_utils.weighted_mean_squared_error(\n",
        "        predictions, targets, weights)\n",
        "    return total_loss  # pytype: disable=bad-return-type  # jax-ndarray\n",
        "\n",
        "\n",
        "targets = jnp.array(\n",
        "      [[2.0, 1.0, 0.0, 1.0],\n",
        "       [2.0, 1.0, 0.0, 1.0],\n",
        "       [5.0, 7.0, 0.0, 1.0]])\n",
        "predictions = jnp.array(\n",
        "    [[2.0, 0.0, 0.0, 1.0],\n",
        "     [2.0, 1.0, 0.0, 1.0],\n",
        "     [4.0, 10.0, 0.0, 1.0]])\n",
        "batch_mask = 1\n",
        "fake_batch = {\n",
        "    'inputs': None,\n",
        "    'targets': targets,\n",
        "    'batch_mask': batch_mask\n",
        "}\n",
        "\n",
        "batch_replicated, predictions_replicated = (\n",
        "        jax_utils.replicate(fake_batch), jax_utils.replicate(predictions))\n",
        "\n",
        "loss_function_pmapped = jax.pmap(loss_function_new, axis_name='batch')\n",
        "\n",
        "\n",
        "total_loss = loss_function_pmapped(predictions_replicated, batch_replicated)\n",
        "total_loss = jax_utils.unreplicate(total_loss)\n",
        "# Loss =  1/3 * (|[0, 1, 0, 0]|^2 + |[0, 0, 0, 0|^2 + |[1, 3, 0, 0]|^2)\n",
        "\n",
        "assert np.allclose(total_loss, 11 / 3)"
      ]
    },
    {
      "cell_type": "code",
      "execution_count": null,
      "metadata": {
        "id": "H2RnIPZfBHu7"
      },
      "outputs": [],
      "source": []
    }
  ],
  "metadata": {
    "colab": {
      "last_runtime": {
        "build_target": "//learning/grp/tools/ml_python:ml_notebook",
        "kind": "private"
      },
      "name": "models_lsm_vit.ipynb",
      "private_outputs": true,
      "provenance": [],
      "toc_visible": true
    },
    "kernelspec": {
      "display_name": "Python 3",
      "name": "python3"
    },
    "language_info": {
      "name": "python"
    }
  },
  "nbformat": 4,
  "nbformat_minor": 0
}
