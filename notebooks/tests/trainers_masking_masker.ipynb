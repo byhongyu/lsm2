{
  "cells": [
    {
      "cell_type": "code",
      "execution_count": 1,
      "metadata": {
        "colab": {
          "height": 185
        },
        "executionInfo": {
          "elapsed": 6654,
          "status": "ok",
          "timestamp": 1742960863506,
          "user": {
            "displayName": "",
            "userId": ""
          },
          "user_tz": 420
        },
        "id": "bKFnQbsbVATm",
        "outputId": "ee8562c7-ff49-4c88-aa56-cedae89350d0"
      },
      "outputs": [
        {
          "data": {
            "text/html": [
              "\u003cdiv style=\"max-width:800px; border: 1px solid var(--colab-border-color);\"\u003e\u003cstyle\u003e\n",
              "      pre.function-repr-contents {\n",
              "        overflow-x: auto;\n",
              "        padding: 8px 12px;\n",
              "        max-height: 500px;\n",
              "      }\n",
              "\n",
              "      pre.function-repr-contents.function-repr-contents-collapsed {\n",
              "        cursor: pointer;\n",
              "        max-height: 100px;\n",
              "      }\n",
              "    \u003c/style\u003e\n",
              "    \u003cpre style=\"white-space: initial; background:\n",
              "         var(--colab-secondary-surface-color); padding: 8px 12px;\n",
              "         border-bottom: 1px solid var(--colab-border-color);\"\u003e\u003cb\u003egoogle3.third_party.tensorflow.python.data.ops.dataset_ops.DatasetV2\u003c/b\u003e\u003cbr/\u003edef __init__(variant_tensor)\u003c/pre\u003e\u003cpre class=\"function-repr-contents function-repr-contents-collapsed\" style=\"\"\u003e\u003ca class=\"filepath\" style=\"display:none\" href=\"#\"\u003e/export/hda3/borglet/remote_hdd_fs_dirs/0.colab_kernel_deepmind_py3_xumax.kernel.xumax.1396536217575.14b334fb3717c109/mount/server/dm_notebook3.par/google3/third_party/tensorflow/python/data/ops/dataset_ops.py\u003c/a\u003eRepresents a potentially large set of elements.\n",
              "\n",
              "The `tf.data.Dataset` API supports writing descriptive and efficient input\n",
              "pipelines. `Dataset` usage follows a common pattern:\n",
              "\n",
              "1. Create a source dataset from your input data.\n",
              "2. Apply dataset transformations to preprocess the data.\n",
              "3. Iterate over the dataset and process the elements.\n",
              "\n",
              "Iteration happens in a streaming fashion, so the full dataset does not need to\n",
              "fit into memory.\n",
              "\n",
              "Source Datasets:\n",
              "\n",
              "The simplest way to create a dataset is to create it from a python `list`:\n",
              "\n",
              "\u0026gt;\u0026gt;\u0026gt; dataset = tf.data.Dataset.from_tensor_slices([1, 2, 3])\n",
              "\u0026gt;\u0026gt;\u0026gt; for element in dataset:\n",
              "...   print(element)\n",
              "tf.Tensor(1, shape=(), dtype=int32)\n",
              "tf.Tensor(2, shape=(), dtype=int32)\n",
              "tf.Tensor(3, shape=(), dtype=int32)\n",
              "\n",
              "To process lines from files, use `tf.data.TextLineDataset`:\n",
              "\n",
              "\u0026gt;\u0026gt;\u0026gt; dataset = tf.data.TextLineDataset([\u0026quot;file1.txt\u0026quot;, \u0026quot;file2.txt\u0026quot;])\n",
              "\n",
              "To process records written in the `TFRecord` format, use `TFRecordDataset`:\n",
              "\n",
              "\u0026gt;\u0026gt;\u0026gt; dataset = tf.data.TFRecordDataset([\u0026quot;file1.tfrecords\u0026quot;, \u0026quot;file2.tfrecords\u0026quot;])\n",
              "\n",
              "To create a dataset of all files matching a pattern, use\n",
              "`tf.data.Dataset.list_files`:\n",
              "\n",
              "```python\n",
              "dataset = tf.data.Dataset.list_files(\u0026quot;/path/*.txt\u0026quot;)\n",
              "```\n",
              "\n",
              "See `tf.data.FixedLengthRecordDataset` and `tf.data.Dataset.from_generator`\n",
              "for more ways to create datasets.\n",
              "\n",
              "Transformations:\n",
              "\n",
              "Once you have a dataset, you can apply transformations to prepare the data for\n",
              "your model:\n",
              "\n",
              "\u0026gt;\u0026gt;\u0026gt; dataset = tf.data.Dataset.from_tensor_slices([1, 2, 3])\n",
              "\u0026gt;\u0026gt;\u0026gt; dataset = dataset.map(lambda x: x*2)\n",
              "\u0026gt;\u0026gt;\u0026gt; [a.item() for a in dataset.as_numpy_iterator()]\n",
              "[2, 4, 6]\n",
              "\n",
              "Common Terms:\n",
              "\n",
              "**Element**: A single output from calling `next()` on a dataset iterator.\n",
              "  Elements may be nested structures containing multiple components. For\n",
              "  example, the element `(1, (3, \u0026quot;apple\u0026quot;))` has one tuple nested in another\n",
              "  tuple. The components are `1`, `3`, and `\u0026quot;apple\u0026quot;`.\n",
              "\n",
              "**Component**: The leaf in the nested structure of an element.\n",
              "\n",
              "Supported types:\n",
              "\n",
              "Elements can be nested structures of tuples, named tuples, and dictionaries.\n",
              "Note that Python lists are *not* treated as nested structures of components.\n",
              "Instead, lists are converted to tensors and treated as components. For\n",
              "example, the element `(1, [1, 2, 3])` has only two components; the tensor `1`\n",
              "and the tensor `[1, 2, 3]`. Element components can be of any type\n",
              "representable by `tf.TypeSpec`, including `tf.Tensor`, `tf.data.Dataset`,\n",
              "`tf.sparse.SparseTensor`, `tf.RaggedTensor`, and `tf.TensorArray`.\n",
              "\n",
              "```python\n",
              "a = 1 # Integer element\n",
              "b = 2.0 # Float element\n",
              "c = (1, 2) # Tuple element with 2 components\n",
              "d = {\u0026quot;a\u0026quot;: (2, 2), \u0026quot;b\u0026quot;: 3} # Dict element with 3 components\n",
              "Point = collections.namedtuple(\u0026quot;Point\u0026quot;, [\u0026quot;x\u0026quot;, \u0026quot;y\u0026quot;])\n",
              "e = Point(1, 2) # Named tuple\n",
              "f = tf.data.Dataset.range(10) # Dataset element\n",
              "```\n",
              "\n",
              "For more information,\n",
              "read [this guide](https://www.tensorflow.org/guide/data).\u003c/pre\u003e\n",
              "      \u003cscript\u003e\n",
              "      if (google.colab.kernel.accessAllowed \u0026\u0026 google.colab.files \u0026\u0026 google.colab.files.view) {\n",
              "        for (const element of document.querySelectorAll('.filepath')) {\n",
              "          element.style.display = 'block'\n",
              "          element.onclick = (event) =\u003e {\n",
              "            event.preventDefault();\n",
              "            event.stopPropagation();\n",
              "            google.colab.files.view(element.textContent, 136);\n",
              "          };\n",
              "        }\n",
              "      }\n",
              "      for (const element of document.querySelectorAll('.function-repr-contents')) {\n",
              "        element.onclick = (event) =\u003e {\n",
              "          event.preventDefault();\n",
              "          event.stopPropagation();\n",
              "          element.classList.toggle('function-repr-contents-collapsed');\n",
              "        };\n",
              "      }\n",
              "      \u003c/script\u003e\n",
              "      \u003c/div\u003e"
            ],
            "text/plain": [
              "google3.third_party.tensorflow.python.data.ops.dataset_ops.DatasetV2"
            ]
          },
          "execution_count": 1,
          "metadata": {},
          "output_type": "execute_result"
        }
      ],
      "source": [
        "# @title Imports\n",
        "\n",
        "import functools\n",
        "import json\n",
        "\n",
        "from flax import jax_utils\n",
        "import jax\n",
        "import jax.numpy as jnp\n",
        "import matplotlib.pyplot as plt\n",
        "import ml_collections\n",
        "import numpy as np\n",
        "import pandas as pd\n",
        "import tensorflow as tf\n",
        "import tensorflow_datasets as tfds\n",
        "\n",
        "from google3.pyglib import build_data\n",
        "from google3.pyglib import gfile\n",
        "# build_data.Changelist()\n",
        "\n",
        "from colabtools import adhoc_import\n",
        "# # this is necessary, otherwise breaks the adhoc_import.Google3CitcClient imports\n",
        "with adhoc_import.Google3():\n",
        "  from scenic.model_lib.base_models import base_model\n",
        "  from scenic.projects.multimask.models import model_utils as mm_model_utils\n",
        "  from scenic.model_lib.base_models import model_utils\n",
        "  # from google3.medical.waveforms.modelling.lsm.datasets.lsm import experiment_constants\n",
        "\n",
        "\n",
        "# this needs to run for some reason, otherwise adhoc_import.Google3CitcClient import breaks\n",
        "tf.data.Dataset"
      ]
    },
    {
      "cell_type": "code",
      "execution_count": 9,
      "metadata": {
        "executionInfo": {
          "elapsed": 133,
          "status": "ok",
          "timestamp": 1742960980436,
          "user": {
            "displayName": "",
            "userId": ""
          },
          "user_tz": 420
        },
        "id": "V7T8yI7ZVLX2"
      },
      "outputs": [],
      "source": [
        "from importlib import reload\n",
        "from colabtools import adhoc_import\n",
        "\n",
        "with adhoc_import.Google3CitcClient(\n",
        "    'lsm_fuck_25_3_17', username='xumax', behavior='preferred'\n",
        "):\n",
        "  from google3.experimental.largesensormodels.scenic.trainers.masking import masker\n",
        "  masker = reload(masker)\n",
        "\n",
        "  from google3.experimental.largesensormodels.scenic.datasets import get_dataset\n",
        "  get_dataset = reload(get_dataset)\n",
        "\n",
        "\n",
        "\n",
        "  from google3.experimental.largesensormodels.scenic.configs.lsm_v2_pretraining import mae_lsm_v2_mt_small\n",
        "  mae_lsm_v2_mt_small = reload(mae_lsm_v2_mt_small)\n",
        "  config = mae_lsm_v2_mt_small.get_config(runlocal=\"True\")"
      ]
    },
    {
      "cell_type": "code",
      "execution_count": 10,
      "metadata": {
        "executionInfo": {
          "elapsed": 1184,
          "status": "ok",
          "timestamp": 1742960981885,
          "user": {
            "displayName": "",
            "userId": ""
          },
          "user_tz": 420
        },
        "id": "gUS-LzxHWLR0",
        "outputId": "1c456d9b-5559-4bfe-af51-4c67a6dada9f"
      },
      "outputs": [
        {
          "name": "stdout",
          "output_type": "stream",
          "text": [
            "train_dataset_name: lsm_v2_pretrain_sessions_-1_windowsize_1440_sensorfeatures_26_validonly_False_missingratio_0.5_timestamp_202503090320\n",
            "valid_dataset_name: lsm_v2_missing_balanced_20250301_valid_dataset\n",
            "train_data_dir: /namespace/fitbit-medical-sandboxes/jg/partner/encrypted/chr-ards-fitbit-prod-research/deid/exp/dmcduff/ttl=52w/lsm_v2/datasets/tfds/lsm_v2_pretrain_sessions_-1_windowsize_1440_sensorfeatures_26_validonly_False_missingratio_0.5_timestamp_202503090320\n",
            "valid_data_dir: /namespace/fitbit-medical-sandboxes/jg/partner/encrypted/chr-ards-fitbit-prod-research/deid/exp/dmcduff/ttl=52w/lsm_v2/datasets/tfds_test/lsm_v2_missing_balanced_20250301_valid_dataset\n"
          ]
        }
      ],
      "source": [
        "rng = jax.random.PRNGKey(config.rng_seed)\n",
        "data_rng, rng = jax.random.split(rng)\n",
        "dataset = get_dataset.get_dataset(config, data_rng)"
      ]
    },
    {
      "cell_type": "code",
      "execution_count": 11,
      "metadata": {
        "executionInfo": {
          "elapsed": 676,
          "status": "ok",
          "timestamp": 1742960983075,
          "user": {
            "displayName": "",
            "userId": ""
          },
          "user_tz": 420
        },
        "id": "vzIyw7UKWLUj"
      },
      "outputs": [],
      "source": [
        "batch = next(dataset.train_iter)"
      ]
    },
    {
      "cell_type": "code",
      "execution_count": 12,
      "metadata": {
        "executionInfo": {
          "elapsed": 53,
          "status": "ok",
          "timestamp": 1742960983404,
          "user": {
            "displayName": "",
            "userId": ""
          },
          "user_tz": 420
        },
        "id": "Jq5UvFrWZxLO",
        "outputId": "b03b8886-94bf-4430-ae84-6a62a4cc65b2"
      },
      "outputs": [
        {
          "data": {
            "text/plain": [
              "dict_keys(['batch_mask', 'datetime_signal', 'exercise_log', 'imputation_mask', 'imputation_ratio', 'input_signal', 'label', 'log_value', 'mask_indices', 'mood_log', 'token_mask', 'unmasked_indices'])"
            ]
          },
          "execution_count": 12,
          "metadata": {},
          "output_type": "execute_result"
        }
      ],
      "source": [
        "batch.keys()"
      ]
    },
    {
      "cell_type": "code",
      "execution_count": 13,
      "metadata": {
        "executionInfo": {
          "elapsed": 55,
          "status": "ok",
          "timestamp": 1742960983942,
          "user": {
            "displayName": "",
            "userId": ""
          },
          "user_tz": 420
        },
        "id": "f-lD40c5ZxN5",
        "outputId": "53fda6d6-5f7e-4a00-a130-a6f6834226a3"
      },
      "outputs": [
        {
          "data": {
            "text/plain": [
              "array([[[0, 1, 1, ..., 0, 1, 1]]], shape=(1, 1, 3744), dtype=int32)"
            ]
          },
          "execution_count": 13,
          "metadata": {},
          "output_type": "execute_result"
        }
      ],
      "source": [
        "batch[\"token_mask\"]"
      ]
    },
    {
      "cell_type": "code",
      "execution_count": 14,
      "metadata": {
        "executionInfo": {
          "elapsed": 53,
          "status": "ok",
          "timestamp": 1742960984512,
          "user": {
            "displayName": "",
            "userId": ""
          },
          "user_tz": 420
        },
        "id": "RMEbWHN2enPA"
      },
      "outputs": [],
      "source": [
        "temp = batch[\"token_mask\"][0,0,:].reshape([144,-1])"
      ]
    },
    {
      "cell_type": "code",
      "execution_count": 15,
      "metadata": {
        "colab": {
          "height": 168
        },
        "executionInfo": {
          "elapsed": 130,
          "status": "ok",
          "timestamp": 1742960985784,
          "user": {
            "displayName": "",
            "userId": ""
          },
          "user_tz": 420
        },
        "id": "g_vE7eXAj9NO",
        "outputId": "4b03a37d-50f1-4fa1-abce-0e7768389158"
      },
      "outputs": [
        {
          "data": {
            "text/plain": [
              "\u003cmatplotlib.image.AxesImage at 0x73664f4fffd0\u003e"
            ]
          },
          "execution_count": 15,
          "metadata": {},
          "output_type": "execute_result"
        },
        {
          "data": {
            "image/png": "[encoded data removed]",
            "text/plain": [
              "\u003cFigure size 720x360 with 1 Axes\u003e"
            ]
          },
          "metadata": {
            "image/png": {
              "height": 133,
              "width": 592
            }
          },
          "output_type": "display_data"
        }
      ],
      "source": [
        "plt.figure(figsize=(10,5))\n",
        "plt.imshow(temp.T)"
      ]
    },
    {
      "cell_type": "code",
      "execution_count": 8,
      "metadata": {
        "executionInfo": {
          "elapsed": 2,
          "status": "ok",
          "timestamp": 1742960873063,
          "user": {
            "displayName": "",
            "userId": ""
          },
          "user_tz": 420
        },
        "id": "Y-mUGvl_j9QL"
      },
      "outputs": [],
      "source": []
    },
    {
      "cell_type": "code",
      "execution_count": null,
      "metadata": {
        "id": "biS32wnJj9TO"
      },
      "outputs": [],
      "source": []
    },
    {
      "cell_type": "code",
      "execution_count": null,
      "metadata": {
        "id": "3Q2DsncOj9WO"
      },
      "outputs": [],
      "source": []
    },
    {
      "cell_type": "code",
      "execution_count": null,
      "metadata": {
        "id": "bdXtyrJJj9Yu"
      },
      "outputs": [],
      "source": []
    },
    {
      "cell_type": "code",
      "execution_count": null,
      "metadata": {
        "id": "dpJNwo4Aj9bj"
      },
      "outputs": [],
      "source": []
    },
    {
      "cell_type": "code",
      "execution_count": 8,
      "metadata": {
        "colab": {
          "height": 168
        },
        "executionInfo": {
          "elapsed": 165,
          "status": "ok",
          "timestamp": 1742960784603,
          "user": {
            "displayName": "",
            "userId": ""
          },
          "user_tz": 420
        },
        "id": "cZui8PtdenRl",
        "outputId": "1da23607-df96-4bfa-8b60-ff8b3990ca59"
      },
      "outputs": [
        {
          "data": {
            "text/plain": [
              "\u003cmatplotlib.image.AxesImage at 0x130d94b9aa10\u003e"
            ]
          },
          "execution_count": 8,
          "metadata": {},
          "output_type": "execute_result"
        },
        {
          "data": {
            "image/png": "[encoded data removed]",
            "text/plain": [
              "\u003cFigure size 720x360 with 1 Axes\u003e"
            ]
          },
          "metadata": {
            "image/png": {
              "height": 133,
              "width": 592
            }
          },
          "output_type": "display_data"
        }
      ],
      "source": [
        "plt.figure(figsize=(10,5))\n",
        "plt.imshow(temp.T)"
      ]
    },
    {
      "cell_type": "code",
      "execution_count": 9,
      "metadata": {
        "executionInfo": {
          "elapsed": 55,
          "status": "ok",
          "timestamp": 1742960784974,
          "user": {
            "displayName": "",
            "userId": ""
          },
          "user_tz": 420
        },
        "id": "9S7oJT8CenUd",
        "outputId": "90dbe6f8-cf9a-4992-fd30-9341070b8a98"
      },
      "outputs": [
        {
          "data": {
            "text/plain": [
              "np.float64(0.8555021367521367)"
            ]
          },
          "execution_count": 9,
          "metadata": {},
          "output_type": "execute_result"
        }
      ],
      "source": [
        "np.sum(temp) / np.prod(temp.shape)"
      ]
    },
    {
      "cell_type": "code",
      "execution_count": null,
      "metadata": {
        "id": "v_lswh2denXG"
      },
      "outputs": [],
      "source": []
    },
    {
      "cell_type": "code",
      "execution_count": 11,
      "metadata": {
        "colab": {
          "height": 168
        },
        "executionInfo": {
          "elapsed": 113,
          "status": "ok",
          "timestamp": 1742960702449,
          "user": {
            "displayName": "",
            "userId": ""
          },
          "user_tz": 420
        },
        "id": "jGDwqsNwenZ8",
        "outputId": "aa012ea7-a188-4f5a-893a-58599606c1de"
      },
      "outputs": [
        {
          "data": {
            "text/plain": [
              "\u003cmatplotlib.image.AxesImage at 0x3324a480e6d0\u003e"
            ]
          },
          "execution_count": 11,
          "metadata": {},
          "output_type": "execute_result"
        },
        {
          "data": {
            "image/png": "[encoded data removed]",
            "text/plain": [
              "\u003cFigure size 720x360 with 1 Axes\u003e"
            ]
          },
          "metadata": {
            "image/png": {
              "height": 133,
              "width": 592
            }
          },
          "output_type": "display_data"
        }
      ],
      "source": [
        "# @title Before\n",
        "plt.figure(figsize=(10,5))\n",
        "plt.imshow(temp.T)"
      ]
    },
    {
      "cell_type": "code",
      "execution_count": null,
      "metadata": {
        "id": "TXwTa17EZxQd"
      },
      "outputs": [],
      "source": []
    },
    {
      "cell_type": "code",
      "execution_count": null,
      "metadata": {
        "colab": {
          "height": 437
        },
        "executionInfo": {
          "elapsed": 6855,
          "status": "error",
          "timestamp": 1742857524540,
          "user": {
            "displayName": "",
            "userId": ""
          },
          "user_tz": 420
        },
        "id": "ZkER7x1BZxSn",
        "outputId": "47ff1f4b-6d13-46b9-e43c-c0e3ad997cdd"
      },
      "outputs": [
        {
          "debug": {
            "argv": [
              "/export/hda3/borglet/remote_hdd_fs_dirs/0.colab_kernel_deepmind_py3_xumax.kernel.xumax.1396536217575.14b334fb3717c109/mount/server/dm_notebook3.par",
              "kernel",
              "-f",
              "/tmp/ipy-be-uc81k6oa/profile_colab/security/kernel-d3e8c589-4aae-4077-832d-7c9ba0fb8193.json",
              "--profile-dir=/tmp/ipy-be-uc81k6oa/profile_colab",
              "--profile=colab",
              "--ipython-dir=/tmp/ipy-be-byyclc_u",
              "--no-secure"
            ],
            "build": "Built on Sun Mar 23 19:33:40 2025 (1742783620)\nBuilt by rbex-enqueue-targets@vlbco42.prod.google.com:/google/src/cloud/buildrabbit-username/buildrabbit-client/google3\nBuilt as //learning/deepmind/dm_python:dm_notebook3\nBuild ID: 4faa7795-dcff-41e1-a836-e5ffce1f665e\nBuilt from changelist 739766807 in a mint client based on //depot/google3\nBuild label: dm_notebook3_2025-03-23-19_00_RC00\nBuild platform: gcc-4.X.Y-crosstool-v18-llvm-grtev4-haswell.k8\nBuild tool: Blaze, release blaze-2025.03.17-2 (mainline @737437911)\nBuilt with par options [\"--compress\", \"--compress_level=6\", \"--compress\"]\nCurrently running under Python 3.11.8: embedded.\n",
            "user": "xumax"
          },
          "ename": "FileNotFoundError",
          "evalue": "[Errno 2] Resource not found: 'google3/third_party/geos/libgeos_c.so'",
          "output_type": "error",
          "traceback": [
            "\u001b[0;31mFileNotFoundError:\u001b[0m [Errno 2] Resource not found: 'google3/third_party/geos/libgeos_c.so'",
            "",
            "\u001b[0;31m---------------------------------------------------------------------------\u001b[0m",
            "\u001b[0;31mFileNotFoundError\u001b[0m                         Traceback (most recent call last)",
            "\u001b[0;32m\u003cipython-input-4-996f75d372f9\u003e\u001b[0m in \u001b[0;36m\u003ccell line: 0\u003e\u001b[0;34m()\u001b[0m\n\u001b[1;32m     42\u001b[0m   \u001b[0;32mfrom\u001b[0m \u001b[0mscenic\u001b[0m\u001b[0;34m.\u001b[0m\u001b[0mprojects\u001b[0m\u001b[0;34m.\u001b[0m\u001b[0mmultimask\u001b[0m\u001b[0;34m.\u001b[0m\u001b[0mmodels\u001b[0m \u001b[0;32mimport\u001b[0m \u001b[0mmodel_utils\u001b[0m \u001b[0;32mas\u001b[0m \u001b[0mmm_model_utils\u001b[0m\u001b[0;34m\u001b[0m\u001b[0;34m\u001b[0m\u001b[0m\n\u001b[1;32m     43\u001b[0m \u001b[0;34m\u001b[0m\u001b[0m\n\u001b[0;32m---\u003e 44\u001b[0;31m   \u001b[0;32mfrom\u001b[0m \u001b[0mgoogle3\u001b[0m\u001b[0;34m.\u001b[0m\u001b[0mexperimental\u001b[0m\u001b[0;34m.\u001b[0m\u001b[0mlargesensormodels\u001b[0m\u001b[0;34m.\u001b[0m\u001b[0mscenic\u001b[0m\u001b[0;34m.\u001b[0m\u001b[0mdatasets\u001b[0m \u001b[0;32mimport\u001b[0m \u001b[0mdataset_constants\u001b[0m\u001b[0;34m\u001b[0m\u001b[0;34m\u001b[0m\u001b[0m\n\u001b[0m\u001b[1;32m     45\u001b[0m   \u001b[0;32mfrom\u001b[0m \u001b[0mgoogle3\u001b[0m\u001b[0;34m.\u001b[0m\u001b[0mexperimental\u001b[0m\u001b[0;34m.\u001b[0m\u001b[0mlargesensormodels\u001b[0m\u001b[0;34m.\u001b[0m\u001b[0mscenic\u001b[0m\u001b[0;34m.\u001b[0m\u001b[0mdatasets\u001b[0m \u001b[0;32mimport\u001b[0m \u001b[0mlsm_tiny_dataset\u001b[0m\u001b[0;34m\u001b[0m\u001b[0;34m\u001b[0m\u001b[0m\n\u001b[1;32m     46\u001b[0m   \u001b[0;32mfrom\u001b[0m \u001b[0mgoogle3\u001b[0m\u001b[0;34m.\u001b[0m\u001b[0mexperimental\u001b[0m\u001b[0;34m.\u001b[0m\u001b[0mlargesensormodels\u001b[0m\u001b[0;34m.\u001b[0m\u001b[0mscenic\u001b[0m\u001b[0;34m.\u001b[0m\u001b[0mmodels\u001b[0m \u001b[0;32mimport\u001b[0m \u001b[0mlsm_vit\u001b[0m \u001b[0;32mas\u001b[0m \u001b[0mlsm_vit_mae\u001b[0m\u001b[0;34m\u001b[0m\u001b[0;34m\u001b[0m\u001b[0m\n",
            "\u001b[0;32m/export/hda3/borglet/remote_hdd_fs_dirs/0.colab_kernel_deepmind_py3_xumax.kernel.xumax.1396536217575.14b334fb3717c109/mount/server/dm_notebook3.par/google3/research/colab/public/adhoc_import.py\u001b[0m in \u001b[0;36mload_module\u001b[0;34m(self, module_name)\u001b[0m\n\u001b[1;32m   1219\u001b[0m \u001b[0;34m\u001b[0m\u001b[0m\n\u001b[1;32m   1220\u001b[0m     \u001b[0;32mtry\u001b[0m\u001b[0;34m:\u001b[0m\u001b[0;34m\u001b[0m\u001b[0;34m\u001b[0m\u001b[0m\n\u001b[0;32m-\u003e 1221\u001b[0;31m       \u001b[0mexec\u001b[0m\u001b[0;34m(\u001b[0m\u001b[0mcode\u001b[0m\u001b[0;34m,\u001b[0m \u001b[0mmod\u001b[0m\u001b[0;34m.\u001b[0m\u001b[0m__dict__\u001b[0m\u001b[0;34m)\u001b[0m  \u001b[0;31m# pylint: disable=exec-used\u001b[0m\u001b[0;34m\u001b[0m\u001b[0;34m\u001b[0m\u001b[0m\n\u001b[0m\u001b[1;32m   1222\u001b[0m     \u001b[0;32mexcept\u001b[0m\u001b[0;34m:\u001b[0m\u001b[0;34m\u001b[0m\u001b[0;34m\u001b[0m\u001b[0m\n\u001b[1;32m   1223\u001b[0m       \u001b[0;32mif\u001b[0m \u001b[0madded_module\u001b[0m\u001b[0;34m:\u001b[0m\u001b[0;34m\u001b[0m\u001b[0;34m\u001b[0m\u001b[0m\n",
            "\u001b[0;32m/google_src/cloud/xumax/lsm_fuck_25_3_17/google3/experimental/largesensormodels/scenic/datasets/dataset_constants.py\u001b[0m in \u001b[0;36m\u003cmodule\u003e\u001b[0;34m\u001b[0m\n\u001b[1;32m      2\u001b[0m \u001b[0;34m\u001b[0m\u001b[0m\n\u001b[1;32m      3\u001b[0m \u001b[0;32mfrom\u001b[0m \u001b[0mtyping\u001b[0m \u001b[0;32mimport\u001b[0m \u001b[0mAny\u001b[0m\u001b[0;34m,\u001b[0m \u001b[0mDict\u001b[0m\u001b[0;34m\u001b[0m\u001b[0;34m\u001b[0m\u001b[0m\n\u001b[0;32m----\u003e 4\u001b[0;31m \u001b[0;32mfrom\u001b[0m \u001b[0mgoogle3\u001b[0m\u001b[0;34m.\u001b[0m\u001b[0mmedical\u001b[0m\u001b[0;34m.\u001b[0m\u001b[0mwaveforms\u001b[0m\u001b[0;34m.\u001b[0m\u001b[0mmodelling\u001b[0m\u001b[0;34m.\u001b[0m\u001b[0mlsm\u001b[0m\u001b[0;34m.\u001b[0m\u001b[0mdatasets\u001b[0m\u001b[0;34m.\u001b[0m\u001b[0mlsm\u001b[0m \u001b[0;32mimport\u001b[0m \u001b[0mexperiment_constants\u001b[0m\u001b[0;34m\u001b[0m\u001b[0;34m\u001b[0m\u001b[0m\n\u001b[0m\u001b[1;32m      5\u001b[0m \u001b[0;34m\u001b[0m\u001b[0m\n\u001b[1;32m      6\u001b[0m \u001b[0mMINUTES_IN_ONE_DAY\u001b[0m \u001b[0;34m=\u001b[0m \u001b[0;36m1440\u001b[0m\u001b[0;34m\u001b[0m\u001b[0;34m\u001b[0m\u001b[0m\n",
            "\u001b[0;32m/google_src/cloud/xumax/lsm_fuck_25_3_17/google3/medical/waveforms/modelling/lsm/datasets/lsm/__init__.py\u001b[0m in \u001b[0;36m\u003cmodule\u003e\u001b[0;34m\u001b[0m\n\u001b[1;32m      1\u001b[0m \u001b[0;34m\"\"\"lsm dataset.\"\"\"\u001b[0m\u001b[0;34m\u001b[0m\u001b[0;34m\u001b[0m\u001b[0m\n\u001b[1;32m      2\u001b[0m \u001b[0;34m\u001b[0m\u001b[0m\n\u001b[0;32m----\u003e 3\u001b[0;31m \u001b[0;32mfrom\u001b[0m \u001b[0mgoogle3\u001b[0m\u001b[0;34m.\u001b[0m\u001b[0mmedical\u001b[0m\u001b[0;34m.\u001b[0m\u001b[0mwaveforms\u001b[0m\u001b[0;34m.\u001b[0m\u001b[0mmodelling\u001b[0m\u001b[0;34m.\u001b[0m\u001b[0mlsm\u001b[0m\u001b[0;34m.\u001b[0m\u001b[0mdatasets\u001b[0m\u001b[0;34m.\u001b[0m\u001b[0mlsm\u001b[0m\u001b[0;34m.\u001b[0m\u001b[0mlsm\u001b[0m \u001b[0;32mimport\u001b[0m \u001b[0mLsm\u001b[0m\u001b[0;34m\u001b[0m\u001b[0;34m\u001b[0m\u001b[0m\n\u001b[0m",
            "\u001b[0;32m/google_src/cloud/xumax/lsm_fuck_25_3_17/google3/medical/waveforms/modelling/lsm/datasets/lsm/lsm.py\u001b[0m in \u001b[0;36m\u003cmodule\u003e\u001b[0;34m\u001b[0m\n\u001b[1;32m      6\u001b[0m \u001b[0;32mfrom\u001b[0m \u001b[0mtyping\u001b[0m \u001b[0;32mimport\u001b[0m \u001b[0mAny\u001b[0m\u001b[0;34m\u001b[0m\u001b[0;34m\u001b[0m\u001b[0m\n\u001b[1;32m      7\u001b[0m \u001b[0;34m\u001b[0m\u001b[0m\n\u001b[0;32m----\u003e 8\u001b[0;31m \u001b[0;32mimport\u001b[0m \u001b[0mapache_beam\u001b[0m \u001b[0;32mas\u001b[0m \u001b[0mbeam\u001b[0m\u001b[0;34m\u001b[0m\u001b[0;34m\u001b[0m\u001b[0m\n\u001b[0m\u001b[1;32m      9\u001b[0m \u001b[0;32mimport\u001b[0m \u001b[0mnumpy\u001b[0m \u001b[0;32mas\u001b[0m \u001b[0mnp\u001b[0m\u001b[0;34m\u001b[0m\u001b[0;34m\u001b[0m\u001b[0m\n\u001b[1;32m     10\u001b[0m \u001b[0;32mimport\u001b[0m \u001b[0mpandas\u001b[0m \u001b[0;32mas\u001b[0m \u001b[0mpd\u001b[0m\u001b[0;34m\u001b[0m\u001b[0;34m\u001b[0m\u001b[0m\n",
            "\u001b[0;32m/export/hda3/borglet/remote_hdd_fs_dirs/0.colab_kernel_deepmind_py3_xumax.kernel.xumax.1396536217575.14b334fb3717c109/mount/server/dm_notebook3.par/google3/third_party/py/apache_beam/__init__.py\u001b[0m in \u001b[0;36m\u003cmodule\u003e\u001b[0;34m\u001b[0m\n\u001b[1;32m    102\u001b[0m \u001b[0;34m\u001b[0m\u001b[0m\n\u001b[1;32m    103\u001b[0m \u001b[0;32mfrom\u001b[0m \u001b[0mapache_beam\u001b[0m \u001b[0;32mimport\u001b[0m \u001b[0mcoders\u001b[0m\u001b[0;34m\u001b[0m\u001b[0;34m\u001b[0m\u001b[0m\n\u001b[0;32m--\u003e 104\u001b[0;31m \u001b[0;32mfrom\u001b[0m \u001b[0mapache_beam\u001b[0m \u001b[0;32mimport\u001b[0m \u001b[0mio\u001b[0m\u001b[0;34m\u001b[0m\u001b[0;34m\u001b[0m\u001b[0m\n\u001b[0m\u001b[1;32m    105\u001b[0m \u001b[0;32mfrom\u001b[0m \u001b[0mapache_beam\u001b[0m \u001b[0;32mimport\u001b[0m \u001b[0mmetrics\u001b[0m\u001b[0;34m\u001b[0m\u001b[0;34m\u001b[0m\u001b[0m\n\u001b[1;32m    106\u001b[0m \u001b[0;32mfrom\u001b[0m \u001b[0mapache_beam\u001b[0m \u001b[0;32mimport\u001b[0m \u001b[0mtypehints\u001b[0m\u001b[0;34m\u001b[0m\u001b[0;34m\u001b[0m\u001b[0m\n",
            "\u001b[0;32m/export/hda3/borglet/remote_hdd_fs_dirs/0.colab_kernel_deepmind_py3_xumax.kernel.xumax.1396536217575.14b334fb3717c109/mount/server/dm_notebook3.par/google3/third_party/py/apache_beam/io/__init__.py\u001b[0m in \u001b[0;36m\u003cmodule\u003e\u001b[0;34m\u001b[0m\n\u001b[1;32m     34\u001b[0m \u001b[0;31m# pylint: disable=wrong-import-order, wrong-import-position\u001b[0m\u001b[0;34m\u001b[0m\u001b[0;34m\u001b[0m\u001b[0m\n\u001b[1;32m     35\u001b[0m \u001b[0;32mtry\u001b[0m\u001b[0;34m:\u001b[0m\u001b[0;34m\u001b[0m\u001b[0;34m\u001b[0m\u001b[0m\n\u001b[0;32m---\u003e 36\u001b[0;31m   \u001b[0;32mfrom\u001b[0m \u001b[0mapache_beam\u001b[0m\u001b[0;34m.\u001b[0m\u001b[0mio\u001b[0m\u001b[0;34m.\u001b[0m\u001b[0mgcp\u001b[0m\u001b[0;34m.\u001b[0m\u001b[0mbigquery\u001b[0m \u001b[0;32mimport\u001b[0m \u001b[0;34m*\u001b[0m\u001b[0;34m\u001b[0m\u001b[0;34m\u001b[0m\u001b[0m\n\u001b[0m\u001b[1;32m     37\u001b[0m   \u001b[0;32mfrom\u001b[0m \u001b[0mapache_beam\u001b[0m\u001b[0;34m.\u001b[0m\u001b[0mio\u001b[0m\u001b[0;34m.\u001b[0m\u001b[0mgcp\u001b[0m\u001b[0;34m.\u001b[0m\u001b[0mpubsub\u001b[0m \u001b[0;32mimport\u001b[0m \u001b[0;34m*\u001b[0m\u001b[0;34m\u001b[0m\u001b[0;34m\u001b[0m\u001b[0m\n\u001b[1;32m     38\u001b[0m   \u001b[0;32mfrom\u001b[0m \u001b[0mapache_beam\u001b[0m\u001b[0;34m.\u001b[0m\u001b[0mio\u001b[0m\u001b[0;34m.\u001b[0m\u001b[0mgcp\u001b[0m \u001b[0;32mimport\u001b[0m \u001b[0mgcsio\u001b[0m\u001b[0;34m\u001b[0m\u001b[0;34m\u001b[0m\u001b[0m\n",
            "\u001b[0;32m/export/hda3/borglet/remote_hdd_fs_dirs/0.colab_kernel_deepmind_py3_xumax.kernel.xumax.1396536217575.14b334fb3717c109/mount/server/dm_notebook3.par/google3/third_party/py/apache_beam/io/gcp/bigquery.py\u001b[0m in \u001b[0;36m\u003cmodule\u003e\u001b[0;34m\u001b[0m\n\u001b[1;32m    385\u001b[0m \u001b[0;32mfrom\u001b[0m \u001b[0mapache_beam\u001b[0m\u001b[0;34m.\u001b[0m\u001b[0mio\u001b[0m\u001b[0;34m.\u001b[0m\u001b[0mfilesystems\u001b[0m \u001b[0;32mimport\u001b[0m \u001b[0mCompressionTypes\u001b[0m\u001b[0;34m\u001b[0m\u001b[0;34m\u001b[0m\u001b[0m\n\u001b[1;32m    386\u001b[0m \u001b[0;32mfrom\u001b[0m \u001b[0mapache_beam\u001b[0m\u001b[0;34m.\u001b[0m\u001b[0mio\u001b[0m\u001b[0;34m.\u001b[0m\u001b[0mfilesystems\u001b[0m \u001b[0;32mimport\u001b[0m \u001b[0mFileSystems\u001b[0m\u001b[0;34m\u001b[0m\u001b[0;34m\u001b[0m\u001b[0m\n\u001b[0;32m--\u003e 387\u001b[0;31m \u001b[0;32mfrom\u001b[0m \u001b[0mapache_beam\u001b[0m\u001b[0;34m.\u001b[0m\u001b[0mio\u001b[0m\u001b[0;34m.\u001b[0m\u001b[0mgcp\u001b[0m \u001b[0;32mimport\u001b[0m \u001b[0mbigquery_schema_tools\u001b[0m\u001b[0;34m\u001b[0m\u001b[0;34m\u001b[0m\u001b[0m\n\u001b[0m\u001b[1;32m    388\u001b[0m \u001b[0;32mfrom\u001b[0m \u001b[0mapache_beam\u001b[0m\u001b[0;34m.\u001b[0m\u001b[0mio\u001b[0m\u001b[0;34m.\u001b[0m\u001b[0mgcp\u001b[0m \u001b[0;32mimport\u001b[0m \u001b[0mbigquery_tools\u001b[0m\u001b[0;34m\u001b[0m\u001b[0;34m\u001b[0m\u001b[0m\n\u001b[1;32m    389\u001b[0m \u001b[0;32mfrom\u001b[0m \u001b[0mapache_beam\u001b[0m\u001b[0;34m.\u001b[0m\u001b[0mio\u001b[0m\u001b[0;34m.\u001b[0m\u001b[0mgcp\u001b[0m\u001b[0;34m.\u001b[0m\u001b[0mbigquery_io_metadata\u001b[0m \u001b[0;32mimport\u001b[0m \u001b[0mcreate_bigquery_io_metadata\u001b[0m\u001b[0;34m\u001b[0m\u001b[0;34m\u001b[0m\u001b[0m\n",
            "\u001b[0;32m/export/hda3/borglet/remote_hdd_fs_dirs/0.colab_kernel_deepmind_py3_xumax.kernel.xumax.1396536217575.14b334fb3717c109/mount/server/dm_notebook3.par/google3/third_party/py/apache_beam/io/gcp/bigquery_schema_tools.py\u001b[0m in \u001b[0;36m\u003cmodule\u003e\u001b[0;34m\u001b[0m\n\u001b[1;32m     29\u001b[0m \u001b[0;34m\u001b[0m\u001b[0m\n\u001b[1;32m     30\u001b[0m \u001b[0;32mimport\u001b[0m \u001b[0mapache_beam\u001b[0m \u001b[0;32mas\u001b[0m \u001b[0mbeam\u001b[0m\u001b[0;34m\u001b[0m\u001b[0;34m\u001b[0m\u001b[0m\n\u001b[0;32m---\u003e 31\u001b[0;31m \u001b[0;32mimport\u001b[0m \u001b[0mapache_beam\u001b[0m\u001b[0;34m.\u001b[0m\u001b[0mio\u001b[0m\u001b[0;34m.\u001b[0m\u001b[0mgcp\u001b[0m\u001b[0;34m.\u001b[0m\u001b[0mbigquery_tools\u001b[0m\u001b[0;34m\u001b[0m\u001b[0;34m\u001b[0m\u001b[0m\n\u001b[0m\u001b[1;32m     32\u001b[0m \u001b[0;32mimport\u001b[0m \u001b[0mapache_beam\u001b[0m\u001b[0;34m.\u001b[0m\u001b[0mtypehints\u001b[0m\u001b[0;34m.\u001b[0m\u001b[0mschemas\u001b[0m\u001b[0;34m\u001b[0m\u001b[0;34m\u001b[0m\u001b[0m\n\u001b[1;32m     33\u001b[0m \u001b[0;32mimport\u001b[0m \u001b[0mapache_beam\u001b[0m\u001b[0;34m.\u001b[0m\u001b[0mutils\u001b[0m\u001b[0;34m.\u001b[0m\u001b[0mproto_utils\u001b[0m\u001b[0;34m\u001b[0m\u001b[0;34m\u001b[0m\u001b[0m\n",
            "\u001b[0;32m/export/hda3/borglet/remote_hdd_fs_dirs/0.colab_kernel_deepmind_py3_xumax.kernel.xumax.1396536217575.14b334fb3717c109/mount/server/dm_notebook3.par/google3/third_party/py/apache_beam/io/gcp/bigquery_tools.py\u001b[0m in \u001b[0;36m\u003cmodule\u003e\u001b[0;34m\u001b[0m\n\u001b[1;32m     75\u001b[0m   \u001b[0;32mfrom\u001b[0m \u001b[0mgoogle\u001b[0m\u001b[0;34m.\u001b[0m\u001b[0mapi_core\u001b[0m\u001b[0;34m.\u001b[0m\u001b[0mexceptions\u001b[0m \u001b[0;32mimport\u001b[0m \u001b[0mClientError\u001b[0m\u001b[0;34m,\u001b[0m \u001b[0mGoogleAPICallError\u001b[0m\u001b[0;34m\u001b[0m\u001b[0;34m\u001b[0m\u001b[0m\n\u001b[1;32m     76\u001b[0m   \u001b[0;32mfrom\u001b[0m \u001b[0mgoogle\u001b[0m\u001b[0;34m.\u001b[0m\u001b[0mapi_core\u001b[0m\u001b[0;34m.\u001b[0m\u001b[0mclient_info\u001b[0m \u001b[0;32mimport\u001b[0m \u001b[0mClientInfo\u001b[0m\u001b[0;34m\u001b[0m\u001b[0;34m\u001b[0m\u001b[0m\n\u001b[0;32m---\u003e 77\u001b[0;31m   \u001b[0;32mfrom\u001b[0m \u001b[0mgoogle\u001b[0m\u001b[0;34m.\u001b[0m\u001b[0mcloud\u001b[0m \u001b[0;32mimport\u001b[0m \u001b[0mbigquery\u001b[0m \u001b[0;32mas\u001b[0m \u001b[0mgcp_bigquery\u001b[0m\u001b[0;34m\u001b[0m\u001b[0;34m\u001b[0m\u001b[0m\n\u001b[0m\u001b[1;32m     78\u001b[0m \u001b[0;32mexcept\u001b[0m \u001b[0mImportError\u001b[0m\u001b[0;34m:\u001b[0m\u001b[0;34m\u001b[0m\u001b[0;34m\u001b[0m\u001b[0m\n\u001b[1;32m     79\u001b[0m   \u001b[0mgcp_bigquery\u001b[0m \u001b[0;34m=\u001b[0m \u001b[0;32mNone\u001b[0m\u001b[0;34m\u001b[0m\u001b[0;34m\u001b[0m\u001b[0m\n",
            "\u001b[0;32m/export/hda3/borglet/remote_hdd_fs_dirs/0.colab_kernel_deepmind_py3_xumax.kernel.xumax.1396536217575.14b334fb3717c109/mount/server/dm_notebook3.par/google3/third_party/py/google/cloud/bigquery/__init__.py\u001b[0m in \u001b[0;36m\u003cmodule\u003e\u001b[0;34m\u001b[0m\n\u001b[1;32m     33\u001b[0m \u001b[0m__version__\u001b[0m \u001b[0;34m=\u001b[0m \u001b[0mbigquery_version\u001b[0m\u001b[0;34m.\u001b[0m\u001b[0m__version__\u001b[0m\u001b[0;34m\u001b[0m\u001b[0;34m\u001b[0m\u001b[0m\n\u001b[1;32m     34\u001b[0m \u001b[0;34m\u001b[0m\u001b[0m\n\u001b[0;32m---\u003e 35\u001b[0;31m \u001b[0;32mfrom\u001b[0m \u001b[0mgoogle\u001b[0m\u001b[0;34m.\u001b[0m\u001b[0mcloud\u001b[0m\u001b[0;34m.\u001b[0m\u001b[0mbigquery\u001b[0m\u001b[0;34m.\u001b[0m\u001b[0mclient\u001b[0m \u001b[0;32mimport\u001b[0m \u001b[0mClient\u001b[0m\u001b[0;34m\u001b[0m\u001b[0;34m\u001b[0m\u001b[0m\n\u001b[0m\u001b[1;32m     36\u001b[0m \u001b[0;32mfrom\u001b[0m \u001b[0mgoogle\u001b[0m\u001b[0;34m.\u001b[0m\u001b[0mcloud\u001b[0m\u001b[0;34m.\u001b[0m\u001b[0mbigquery\u001b[0m\u001b[0;34m.\u001b[0m\u001b[0mdataset\u001b[0m \u001b[0;32mimport\u001b[0m \u001b[0mAccessEntry\u001b[0m\u001b[0;34m\u001b[0m\u001b[0;34m\u001b[0m\u001b[0m\n\u001b[1;32m     37\u001b[0m \u001b[0;32mfrom\u001b[0m \u001b[0mgoogle\u001b[0m\u001b[0;34m.\u001b[0m\u001b[0mcloud\u001b[0m\u001b[0;34m.\u001b[0m\u001b[0mbigquery\u001b[0m\u001b[0;34m.\u001b[0m\u001b[0mdataset\u001b[0m \u001b[0;32mimport\u001b[0m \u001b[0mDataset\u001b[0m\u001b[0;34m\u001b[0m\u001b[0;34m\u001b[0m\u001b[0m\n",
            "\u001b[0;32m/export/hda3/borglet/remote_hdd_fs_dirs/0.colab_kernel_deepmind_py3_xumax.kernel.xumax.1396536217575.14b334fb3717c109/mount/server/dm_notebook3.par/google3/third_party/py/google/cloud/bigquery/client.py\u001b[0m in \u001b[0;36m\u003cmodule\u003e\u001b[0;34m\u001b[0m\n\u001b[1;32m     67\u001b[0m \u001b[0;34m\u001b[0m\u001b[0m\n\u001b[1;32m     68\u001b[0m \u001b[0;32mfrom\u001b[0m \u001b[0mgoogle\u001b[0m\u001b[0;34m.\u001b[0m\u001b[0mcloud\u001b[0m\u001b[0;34m.\u001b[0m\u001b[0mbigquery\u001b[0m\u001b[0;34m.\u001b[0m\u001b[0m_http\u001b[0m \u001b[0;32mimport\u001b[0m \u001b[0mConnection\u001b[0m\u001b[0;34m\u001b[0m\u001b[0;34m\u001b[0m\u001b[0m\n\u001b[0;32m---\u003e 69\u001b[0;31m \u001b[0;32mfrom\u001b[0m \u001b[0mgoogle\u001b[0m\u001b[0;34m.\u001b[0m\u001b[0mcloud\u001b[0m\u001b[0;34m.\u001b[0m\u001b[0mbigquery\u001b[0m \u001b[0;32mimport\u001b[0m \u001b[0m_job_helpers\u001b[0m\u001b[0;34m\u001b[0m\u001b[0;34m\u001b[0m\u001b[0m\n\u001b[0m\u001b[1;32m     70\u001b[0m \u001b[0;32mfrom\u001b[0m \u001b[0mgoogle\u001b[0m\u001b[0;34m.\u001b[0m\u001b[0mcloud\u001b[0m\u001b[0;34m.\u001b[0m\u001b[0mbigquery\u001b[0m \u001b[0;32mimport\u001b[0m \u001b[0m_pandas_helpers\u001b[0m\u001b[0;34m\u001b[0m\u001b[0;34m\u001b[0m\u001b[0m\n\u001b[1;32m     71\u001b[0m \u001b[0;32mfrom\u001b[0m \u001b[0mgoogle\u001b[0m\u001b[0;34m.\u001b[0m\u001b[0mcloud\u001b[0m\u001b[0;34m.\u001b[0m\u001b[0mbigquery\u001b[0m \u001b[0;32mimport\u001b[0m \u001b[0m_versions_helpers\u001b[0m\u001b[0;34m\u001b[0m\u001b[0;34m\u001b[0m\u001b[0m\n",
            "\u001b[0;32m/export/hda3/borglet/remote_hdd_fs_dirs/0.colab_kernel_deepmind_py3_xumax.kernel.xumax.1396536217575.14b334fb3717c109/mount/server/dm_notebook3.par/google3/third_party/py/google/cloud/bigquery/_job_helpers.py\u001b[0m in \u001b[0;36m\u003cmodule\u003e\u001b[0;34m\u001b[0m\n\u001b[1;32m     45\u001b[0m \u001b[0;32mfrom\u001b[0m \u001b[0mgoogle\u001b[0m\u001b[0;34m.\u001b[0m\u001b[0mapi_core\u001b[0m \u001b[0;32mimport\u001b[0m \u001b[0mretry\u001b[0m \u001b[0;32mas\u001b[0m \u001b[0mretries\u001b[0m\u001b[0;34m\u001b[0m\u001b[0;34m\u001b[0m\u001b[0m\n\u001b[1;32m     46\u001b[0m \u001b[0;34m\u001b[0m\u001b[0m\n\u001b[0;32m---\u003e 47\u001b[0;31m \u001b[0;32mfrom\u001b[0m \u001b[0mgoogle\u001b[0m\u001b[0;34m.\u001b[0m\u001b[0mcloud\u001b[0m\u001b[0;34m.\u001b[0m\u001b[0mbigquery\u001b[0m \u001b[0;32mimport\u001b[0m \u001b[0mjob\u001b[0m\u001b[0;34m\u001b[0m\u001b[0;34m\u001b[0m\u001b[0m\n\u001b[0m\u001b[1;32m     48\u001b[0m \u001b[0;32mimport\u001b[0m \u001b[0mgoogle\u001b[0m\u001b[0;34m.\u001b[0m\u001b[0mcloud\u001b[0m\u001b[0;34m.\u001b[0m\u001b[0mbigquery\u001b[0m\u001b[0;34m.\u001b[0m\u001b[0mquery\u001b[0m\u001b[0;34m\u001b[0m\u001b[0;34m\u001b[0m\u001b[0m\n\u001b[1;32m     49\u001b[0m \u001b[0;32mfrom\u001b[0m \u001b[0mgoogle\u001b[0m\u001b[0;34m.\u001b[0m\u001b[0mcloud\u001b[0m\u001b[0;34m.\u001b[0m\u001b[0mbigquery\u001b[0m \u001b[0;32mimport\u001b[0m \u001b[0mtable\u001b[0m\u001b[0;34m\u001b[0m\u001b[0;34m\u001b[0m\u001b[0m\n",
            "\u001b[0;32m/export/hda3/borglet/remote_hdd_fs_dirs/0.colab_kernel_deepmind_py3_xumax.kernel.xumax.1396536217575.14b334fb3717c109/mount/server/dm_notebook3.par/google3/third_party/py/google/cloud/bigquery/job/__init__.py\u001b[0m in \u001b[0;36m\u003cmodule\u003e\u001b[0;34m\u001b[0m\n\u001b[1;32m     25\u001b[0m \u001b[0;32mfrom\u001b[0m \u001b[0mgoogle\u001b[0m\u001b[0;34m.\u001b[0m\u001b[0mcloud\u001b[0m\u001b[0;34m.\u001b[0m\u001b[0mbigquery\u001b[0m\u001b[0;34m.\u001b[0m\u001b[0mjob\u001b[0m\u001b[0;34m.\u001b[0m\u001b[0mbase\u001b[0m \u001b[0;32mimport\u001b[0m \u001b[0mTransactionInfo\u001b[0m\u001b[0;34m\u001b[0m\u001b[0;34m\u001b[0m\u001b[0m\n\u001b[1;32m     26\u001b[0m \u001b[0;32mfrom\u001b[0m \u001b[0mgoogle\u001b[0m\u001b[0;34m.\u001b[0m\u001b[0mcloud\u001b[0m\u001b[0;34m.\u001b[0m\u001b[0mbigquery\u001b[0m\u001b[0;34m.\u001b[0m\u001b[0mjob\u001b[0m\u001b[0;34m.\u001b[0m\u001b[0mbase\u001b[0m \u001b[0;32mimport\u001b[0m \u001b[0mUnknownJob\u001b[0m\u001b[0;34m\u001b[0m\u001b[0;34m\u001b[0m\u001b[0m\n\u001b[0;32m---\u003e 27\u001b[0;31m \u001b[0;32mfrom\u001b[0m \u001b[0mgoogle\u001b[0m\u001b[0;34m.\u001b[0m\u001b[0mcloud\u001b[0m\u001b[0;34m.\u001b[0m\u001b[0mbigquery\u001b[0m\u001b[0;34m.\u001b[0m\u001b[0mjob\u001b[0m\u001b[0;34m.\u001b[0m\u001b[0mcopy_\u001b[0m \u001b[0;32mimport\u001b[0m \u001b[0mCopyJob\u001b[0m\u001b[0;34m\u001b[0m\u001b[0;34m\u001b[0m\u001b[0m\n\u001b[0m\u001b[1;32m     28\u001b[0m \u001b[0;32mfrom\u001b[0m \u001b[0mgoogle\u001b[0m\u001b[0;34m.\u001b[0m\u001b[0mcloud\u001b[0m\u001b[0;34m.\u001b[0m\u001b[0mbigquery\u001b[0m\u001b[0;34m.\u001b[0m\u001b[0mjob\u001b[0m\u001b[0;34m.\u001b[0m\u001b[0mcopy_\u001b[0m \u001b[0;32mimport\u001b[0m \u001b[0mCopyJobConfig\u001b[0m\u001b[0;34m\u001b[0m\u001b[0;34m\u001b[0m\u001b[0m\n\u001b[1;32m     29\u001b[0m \u001b[0;32mfrom\u001b[0m \u001b[0mgoogle\u001b[0m\u001b[0;34m.\u001b[0m\u001b[0mcloud\u001b[0m\u001b[0;34m.\u001b[0m\u001b[0mbigquery\u001b[0m\u001b[0;34m.\u001b[0m\u001b[0mjob\u001b[0m\u001b[0;34m.\u001b[0m\u001b[0mcopy_\u001b[0m \u001b[0;32mimport\u001b[0m \u001b[0mOperationType\u001b[0m\u001b[0;34m\u001b[0m\u001b[0;34m\u001b[0m\u001b[0m\n",
            "\u001b[0;32m/export/hda3/borglet/remote_hdd_fs_dirs/0.colab_kernel_deepmind_py3_xumax.kernel.xumax.1396536217575.14b334fb3717c109/mount/server/dm_notebook3.par/google3/third_party/py/google/cloud/bigquery/job/copy_.py\u001b[0m in \u001b[0;36m\u003cmodule\u003e\u001b[0;34m\u001b[0m\n\u001b[1;32m     20\u001b[0m \u001b[0;32mfrom\u001b[0m \u001b[0mgoogle\u001b[0m\u001b[0;34m.\u001b[0m\u001b[0mcloud\u001b[0m\u001b[0;34m.\u001b[0m\u001b[0mbigquery\u001b[0m\u001b[0;34m.\u001b[0m\u001b[0mencryption_configuration\u001b[0m \u001b[0;32mimport\u001b[0m \u001b[0mEncryptionConfiguration\u001b[0m\u001b[0;34m\u001b[0m\u001b[0;34m\u001b[0m\u001b[0m\n\u001b[1;32m     21\u001b[0m \u001b[0;32mfrom\u001b[0m \u001b[0mgoogle\u001b[0m\u001b[0;34m.\u001b[0m\u001b[0mcloud\u001b[0m\u001b[0;34m.\u001b[0m\u001b[0mbigquery\u001b[0m \u001b[0;32mimport\u001b[0m \u001b[0m_helpers\u001b[0m\u001b[0;34m\u001b[0m\u001b[0;34m\u001b[0m\u001b[0m\n\u001b[0;32m---\u003e 22\u001b[0;31m \u001b[0;32mfrom\u001b[0m \u001b[0mgoogle\u001b[0m\u001b[0;34m.\u001b[0m\u001b[0mcloud\u001b[0m\u001b[0;34m.\u001b[0m\u001b[0mbigquery\u001b[0m\u001b[0;34m.\u001b[0m\u001b[0mtable\u001b[0m \u001b[0;32mimport\u001b[0m \u001b[0mTableReference\u001b[0m\u001b[0;34m\u001b[0m\u001b[0;34m\u001b[0m\u001b[0m\n\u001b[0m\u001b[1;32m     23\u001b[0m \u001b[0;34m\u001b[0m\u001b[0m\n\u001b[1;32m     24\u001b[0m \u001b[0;32mfrom\u001b[0m \u001b[0mgoogle\u001b[0m\u001b[0;34m.\u001b[0m\u001b[0mcloud\u001b[0m\u001b[0;34m.\u001b[0m\u001b[0mbigquery\u001b[0m\u001b[0;34m.\u001b[0m\u001b[0mjob\u001b[0m\u001b[0;34m.\u001b[0m\u001b[0mbase\u001b[0m \u001b[0;32mimport\u001b[0m \u001b[0m_AsyncJob\u001b[0m\u001b[0;34m\u001b[0m\u001b[0;34m\u001b[0m\u001b[0m\n",
            "\u001b[0;32m/export/hda3/borglet/remote_hdd_fs_dirs/0.colab_kernel_deepmind_py3_xumax.kernel.xumax.1396536217575.14b334fb3717c109/mount/server/dm_notebook3.par/google3/third_party/py/google/cloud/bigquery/table.py\u001b[0m in \u001b[0;36m\u003cmodule\u003e\u001b[0;34m\u001b[0m\n\u001b[1;32m     49\u001b[0m \u001b[0;32mtry\u001b[0m\u001b[0;34m:\u001b[0m\u001b[0;34m\u001b[0m\u001b[0;34m\u001b[0m\u001b[0m\n\u001b[1;32m     50\u001b[0m     \u001b[0;32mimport\u001b[0m \u001b[0mshapely\u001b[0m  \u001b[0;31m# type: ignore\u001b[0m\u001b[0;34m\u001b[0m\u001b[0;34m\u001b[0m\u001b[0m\n\u001b[0;32m---\u003e 51\u001b[0;31m     \u001b[0;32mfrom\u001b[0m \u001b[0mshapely\u001b[0m \u001b[0;32mimport\u001b[0m \u001b[0mwkt\u001b[0m  \u001b[0;31m# type: ignore\u001b[0m\u001b[0;34m\u001b[0m\u001b[0;34m\u001b[0m\u001b[0m\n\u001b[0m\u001b[1;32m     52\u001b[0m \u001b[0;32mexcept\u001b[0m \u001b[0mImportError\u001b[0m\u001b[0;34m:\u001b[0m\u001b[0;34m\u001b[0m\u001b[0;34m\u001b[0m\u001b[0m\n\u001b[1;32m     53\u001b[0m     \u001b[0mshapely\u001b[0m \u001b[0;34m=\u001b[0m \u001b[0;32mNone\u001b[0m\u001b[0;34m\u001b[0m\u001b[0;34m\u001b[0m\u001b[0m\n",
            "\u001b[0;32m/google_src/head/depot/google3/third_party/py/shapely/wkt.py\u001b[0m in \u001b[0;36m\u003cmodule\u003e\u001b[0;34m\u001b[0m\n\u001b[1;32m      4\u001b[0m \"\"\"\n\u001b[1;32m      5\u001b[0m \u001b[0;34m\u001b[0m\u001b[0m\n\u001b[0;32m----\u003e 6\u001b[0;31m \u001b[0;32mfrom\u001b[0m \u001b[0mshapely\u001b[0m \u001b[0;32mimport\u001b[0m \u001b[0mgeos\u001b[0m\u001b[0;34m\u001b[0m\u001b[0;34m\u001b[0m\u001b[0m\n\u001b[0m\u001b[1;32m      7\u001b[0m \u001b[0;34m\u001b[0m\u001b[0m\n\u001b[1;32m      8\u001b[0m \u001b[0;34m\u001b[0m\u001b[0m\n",
            "\u001b[0;32m/google_src/head/depot/google3/third_party/py/shapely/geos.py\u001b[0m in \u001b[0;36m\u003cmodule\u003e\u001b[0;34m\u001b[0m\n\u001b[1;32m     66\u001b[0m \u001b[0;34m\u001b[0m\u001b[0m\n\u001b[1;32m     67\u001b[0m \u001b[0;32mif\u001b[0m \u001b[0msys\u001b[0m\u001b[0;34m.\u001b[0m\u001b[0mplatform\u001b[0m\u001b[0;34m.\u001b[0m\u001b[0mstartswith\u001b[0m\u001b[0;34m(\u001b[0m\u001b[0;34m'linux'\u001b[0m\u001b[0;34m)\u001b[0m\u001b[0;34m:\u001b[0m\u001b[0;34m\u001b[0m\u001b[0;34m\u001b[0m\u001b[0m\n\u001b[0;32m---\u003e 68\u001b[0;31m     google3_dll_path = google3.pyglib.resources.GetResourceFilename(\n\u001b[0m\u001b[1;32m     69\u001b[0m         'google3/third_party/geos/libgeos_c.so')\n\u001b[1;32m     70\u001b[0m     \u001b[0;31m# Test to see if we have a wheel repaired by 'auditwheel' containing its\u001b[0m\u001b[0;34m\u001b[0m\u001b[0;34m\u001b[0m\u001b[0m\n",
            "\u001b[0;32m/export/hda3/borglet/remote_hdd_fs_dirs/0.colab_kernel_deepmind_py3_xumax.kernel.xumax.1396536217575.14b334fb3717c109/mount/server/dm_notebook3.par/google3/pyglib/resources.py\u001b[0m in \u001b[0;36mGetResourceFilename\u001b[0;34m(***failed resolving arguments***)\u001b[0m\n\u001b[1;32m    345\u001b[0m     \u001b[0;31m# Ignore the passed-in mode, since we don't return an opened file in this\u001b[0m\u001b[0;34m\u001b[0m\u001b[0;34m\u001b[0m\u001b[0m\n\u001b[1;32m    346\u001b[0m     \u001b[0;31m# function. This avoids coding artifacts.\u001b[0m\u001b[0;34m\u001b[0m\u001b[0;34m\u001b[0m\u001b[0m\n\u001b[0;32m--\u003e 347\u001b[0;31m     \u001b[0;34m(\u001b[0m\u001b[0mfilename\u001b[0m\u001b[0;34m,\u001b[0m \u001b[0mdata\u001b[0m\u001b[0;34m)\u001b[0m \u001b[0;34m=\u001b[0m \u001b[0mFindResource\u001b[0m\u001b[0;34m(\u001b[0m\u001b[0mname\u001b[0m\u001b[0;34m,\u001b[0m \u001b[0;34m'rb'\u001b[0m\u001b[0;34m)\u001b[0m  \u001b[0;31m# maybe throws IOError\u001b[0m\u001b[0;34m\u001b[0m\u001b[0;34m\u001b[0m\u001b[0m\n\u001b[0m\u001b[1;32m    348\u001b[0m     \u001b[0;32mif\u001b[0m \u001b[0;32mnot\u001b[0m \u001b[0mfilename\u001b[0m\u001b[0;34m:\u001b[0m\u001b[0;34m\u001b[0m\u001b[0;34m\u001b[0m\u001b[0m\n\u001b[1;32m    349\u001b[0m       \u001b[0;32massert\u001b[0m \u001b[0mdata\u001b[0m \u001b[0;32mis\u001b[0m \u001b[0;32mnot\u001b[0m \u001b[0;32mNone\u001b[0m\u001b[0;34m\u001b[0m\u001b[0;34m\u001b[0m\u001b[0m\n",
            "\u001b[0;32m/export/hda3/borglet/remote_hdd_fs_dirs/0.colab_kernel_deepmind_py3_xumax.kernel.xumax.1396536217575.14b334fb3717c109/mount/server/dm_notebook3.par/google3/pyglib/resources.py\u001b[0m in \u001b[0;36mFindResource\u001b[0;34m(name, mode, encoding, errors)\u001b[0m\n\u001b[1;32m    946\u001b[0m            'resource: %s\\n' % name)\n\u001b[1;32m    947\u001b[0m \u001b[0;34m\u001b[0m\u001b[0m\n\u001b[0;32m--\u003e 948\u001b[0;31m   \u001b[0;32mraise\u001b[0m \u001b[0mIOError\u001b[0m\u001b[0;34m(\u001b[0m\u001b[0merrno\u001b[0m\u001b[0;34m.\u001b[0m\u001b[0mENOENT\u001b[0m\u001b[0;34m,\u001b[0m \u001b[0;34m'Resource not found'\u001b[0m\u001b[0;34m,\u001b[0m \u001b[0mname\u001b[0m\u001b[0;34m)\u001b[0m\u001b[0;34m\u001b[0m\u001b[0;34m\u001b[0m\u001b[0m\n\u001b[0m\u001b[1;32m    949\u001b[0m \u001b[0;34m\u001b[0m\u001b[0m\n\u001b[1;32m    950\u001b[0m \u001b[0;34m\u001b[0m\u001b[0m\n",
            "\u001b[0;31mFileNotFoundError\u001b[0m: [Errno 2] Resource not found: 'google3/third_party/geos/libgeos_c.so'"
          ]
        }
      ],
      "source": [
        "# @title Imports\n",
        "\n",
        "import functools\n",
        "from typing import Any, Callable, Dict, Iterator, Tuple, Optional, Type, Union\n",
        "\n",
        "from absl import logging\n",
        "from clu import metric_writers\n",
        "from clu import periodic_actions\n",
        "from clu import platform\n",
        "\n",
        "import flax\n",
        "from flax import jax_utils\n",
        "import flax.linen as nn\n",
        "import jax\n",
        "import jax.numpy as jnp\n",
        "import jax.profiler\n",
        "\n",
        "import ml_collections\n",
        "import numpy as np\n",
        "import optax\n",
        "import tensorflow as tf\n",
        "import tensorflow_datasets as tfds\n",
        "\n",
        "import matplotlib\n",
        "import matplotlib.gridspec as gridspec\n",
        "import matplotlib.pyplot as plt\n",
        "%matplotlib inline\n",
        "\n",
        "from colabtools import adhoc_import\n",
        "with adhoc_import.Google3():\n",
        "  from scenic.dataset_lib import dataset_utils\n",
        "  from scenic.google.xm import xm_utils\n",
        "  from scenic.model_lib.base_models import base_model\n",
        "  from scenic.model_lib.base_models import model_utils\n",
        "  from scenic.model_lib.layers import nn_ops\n",
        "  from scenic.model_lib.layers import nn_layers\n",
        "  from scenic.projects.baselines import vit\n",
        "  from scenic.train_lib import optax as scenic_optax\n",
        "  from scenic.train_lib import pretrain_utils\n",
        "  from scenic.train_lib import train_utils\n",
        "\n",
        "  from scenic.projects.multimask.models import model_utils as mm_model_utils\n",
        "\n",
        "  from google3.experimental.largesensormodels.scenic.datasets import dataset_constants\n",
        "  from google3.experimental.largesensormodels.scenic.datasets import lsm_tiny_dataset\n",
        "  from google3.experimental.largesensormodels.scenic.models import lsm_vit as lsm_vit_mae\n",
        "  from google3.experimental.largesensormodels.scenic.models.lsm_vit_utils import model_constants\n",
        "  from google3.experimental.largesensormodels.scenic.models.lsm_vit_utils import model_utils as lsm_model_utils\n",
        "  from google3.experimental.largesensormodels.scenic.trainers import lsm_mae_trainer\n",
        "\n",
        "  from google3.pyglib import gfile\n",
        "\n",
        "\n",
        "Batch = Dict[str, jnp.ndarray]\n",
        "MetricFn = Callable[\n",
        "    [jnp.ndarray, jnp.ndarray, Dict[str, jnp.ndarray]],\n",
        "    Dict[str, Tuple[float, int]],\n",
        "]\n",
        "LossFn = Callable[\n",
        "    [jnp.ndarray, Batch, Optional[jnp.ndarray], jnp.ndarray], float\n",
        "]\n",
        "LrFns = Dict[str, Callable[[jnp.ndarray], jnp.ndarray]]\n",
        "Patch = Union[Tuple[int, int], Tuple[int, int, int]]"
      ]
    },
    {
      "cell_type": "code",
      "execution_count": null,
      "metadata": {
        "id": "g4_xO3KrZzlq"
      },
      "outputs": [],
      "source": []
    }
  ],
  "metadata": {
    "colab": {
      "last_runtime": {
        "build_target": "//learning/deepmind/dm_python:dm_notebook3",
        "kind": "private"
      },
      "provenance": []
    },
    "kernelspec": {
      "display_name": "Python 3",
      "name": "python3"
    },
    "language_info": {
      "name": "python"
    }
  },
  "nbformat": 4,
  "nbformat_minor": 0
}
