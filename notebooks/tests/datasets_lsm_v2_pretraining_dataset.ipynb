{
  "cells": [
    {
      "cell_type": "code",
      "execution_count": null,
      "metadata": {
        "id": "jCLdOX3tuTg2"
      },
      "outputs": [],
      "source": [
        "# @title Imports\n",
        "# import pytest\n",
        "\n",
        "import functools\n",
        "import json\n",
        "\n",
        "from flax import jax_utils\n",
        "import jax\n",
        "import jax.numpy as jnp\n",
        "import matplotlib.pyplot as plt\n",
        "import ml_collections\n",
        "import numpy as np\n",
        "import pandas as pd\n",
        "import tensorflow as tf\n",
        "import tensorflow_datasets as tfds\n",
        "\n",
        "from google3.pyglib import build_data\n",
        "from google3.pyglib import gfile\n",
        "# build_data.Changelist()\n",
        "\n",
        "from colabtools import adhoc_import\n",
        "# this is necessary, otherwise breaks the adhoc_import.Google3CitcClient imports\n",
        "with adhoc_import.Google3():\n",
        "  from scenic.model_lib.base_models import base_model\n",
        "  from scenic.projects.multimask.models import model_utils as mm_model_utils\n",
        "  from scenic.model_lib.base_models import model_utils\n",
        "\n",
        "# this needs to run for some reason, otherwise adhoc_import.Google3CitcClient import breaks\n",
        "tf.data.Dataset"
      ]
    },
    {
      "cell_type": "markdown",
      "metadata": {
        "id": "28NaTI3fujC9"
      },
      "source": [
        "# mask_to_patchmask test"
      ]
    },
    {
      "cell_type": "code",
      "execution_count": null,
      "metadata": {
        "id": "jXJD2exPujYy"
      },
      "outputs": [],
      "source": [
        "from importlib import reload\n",
        "from colabtools import adhoc_import\n",
        "\n",
        "with adhoc_import.Google3CitcClient(\n",
        "    'lsm_maskoncpu_25_2_16', username='xumax', behavior='preferred'\n",
        "):\n",
        "  from google3.experimental.largesensormodels.scenic.datasets import dataset_utils\n",
        "  dataset_utils = reload(dataset_utils)\n",
        "  mask_to_patchmask = dataset_utils.mask_to_patchmask"
      ]
    },
    {
      "cell_type": "code",
      "execution_count": null,
      "metadata": {
        "id": "QPC6mSAlvPra"
      },
      "outputs": [],
      "source": [
        "mask = jnp.array([\n",
        "    [1, 1, 0, 0],\n",
        "    [1, 1, 0, 0],\n",
        "    [0, 0, 1, 1],\n",
        "    [0, 0, 1, 1]\n",
        "]).reshape(4, 4, 1)\n",
        "\n",
        "input_size = (4, 4, 1)\n",
        "patch_size = (2, 2)\n",
        "\n",
        "expected_output = jnp.array([\n",
        "    [1, 0],\n",
        "    [0, 1]\n",
        "], dtype=jnp.float32)\n",
        "\n",
        "output = mask_to_patchmask(mask, input_size, patch_size, mechanism='absolute')\n",
        "\n",
        "assert jnp.array_equal(output, expected_output), f\"Expected {expected_output}, got {output}\"\n"
      ]
    },
    {
      "cell_type": "code",
      "execution_count": null,
      "metadata": {
        "id": "H4sqfCKAvt60"
      },
      "outputs": [],
      "source": [
        "mask = jnp.array([\n",
        "    [1, 1, 0, 0],\n",
        "    [1, 0, 0, 0],\n",
        "    [0, 0, 1, 1],\n",
        "    [0, 0, 1, 0]\n",
        "]).reshape(4, 4, 1)\n",
        "\n",
        "input_size = (4, 4, 1)\n",
        "patch_size = (2, 2)\n",
        "\n",
        "expected_output = jnp.array([\n",
        "    [1, 0],\n",
        "    [0, 1]\n",
        "], dtype=jnp.float32)\n",
        "\n",
        "output = mask_to_patchmask(mask, input_size, patch_size, mechanism='1threshold', thresh_amt=0.5)\n",
        "\n",
        "assert jnp.array_equal(output, expected_output), f\"Expected {expected_output}, got {output}\""
      ]
    },
    {
      "cell_type": "code",
      "execution_count": null,
      "metadata": {
        "id": "MPXSd3vfxDUa"
      },
      "outputs": [],
      "source": [
        "mask = jnp.array([\n",
        "    [1, 1, 0, 0],\n",
        "    [1, 0, 0, 0],\n",
        "    [0, 0, 1, 1],\n",
        "    [0, 0, 1, 0]\n",
        "]).reshape(4, 4, 1)\n",
        "\n",
        "input_size = (4, 4, 1)\n",
        "patch_size = (2, 2)\n",
        "\n",
        "\n",
        "try:\n",
        "  output = mask_to_patchmask(mask, input_size, patch_size, mechanism='fakemechanism', thresh_amt=0.5)\n",
        "  assert False\n",
        "except ValueError:\n",
        "  pass"
      ]
    },
    {
      "cell_type": "code",
      "execution_count": null,
      "metadata": {
        "id": "B-0fPp1xypba"
      },
      "outputs": [],
      "source": []
    },
    {
      "cell_type": "markdown",
      "metadata": {
        "id": "pCC-NTmSzGMg"
      },
      "source": [
        "# get_random_mask_afterinputmask_indices test"
      ]
    },
    {
      "cell_type": "code",
      "execution_count": null,
      "metadata": {
        "id": "zEX8T6CC6eeJ"
      },
      "outputs": [],
      "source": [
        "from importlib import reload\n",
        "from colabtools import adhoc_import\n",
        "\n",
        "with adhoc_import.Google3CitcClient(\n",
        "    'lsm3_bettermae_25_2_12', username='xumax', behavior='preferred'\n",
        "):\n",
        "  from google3.experimental.largesensormodels.scenic.datasets import dataset_utils\n",
        "  dataset_utils = reload(dataset_utils)\n",
        "  get_random_mask_afterinputmask_indices = dataset_utils.get_random_mask_afterinputmask_indices"
      ]
    },
    {
      "cell_type": "code",
      "execution_count": null,
      "metadata": {
        "id": "VDW8BxwMzPek"
      },
      "outputs": [],
      "source": [
        "n_tokens = 10\n",
        "n_masked = 5\n",
        "existing_mask = tf.constant([0, 1, 0, 1, 0, 0, 0, 0, 0, 0], dtype=tf.int32)\n",
        "seed = 42\n",
        "\n",
        "mask_inds, unmasked_inds, binary_mask = get_random_mask_afterinputmask_indices(n_tokens, n_masked, existing_mask, seed)\n",
        "\n",
        "assert tf.reduce_sum(binary_mask).numpy() == n_masked\n",
        "assert len(mask_inds.numpy()) == n_masked\n",
        "assert len(unmasked_inds.numpy()) == n_tokens - n_masked"
      ]
    },
    {
      "cell_type": "code",
      "execution_count": null,
      "metadata": {
        "id": "nZdvoZtjzTc1"
      },
      "outputs": [],
      "source": [
        "n_tokens = 8\n",
        "n_masked = 4\n",
        "existing_mask = tf.zeros([n_tokens], dtype=tf.int32)\n",
        "seed = 42\n",
        "\n",
        "mask_inds, unmasked_inds, binary_mask = get_random_mask_afterinputmask_indices(n_tokens, n_masked, existing_mask, seed)\n",
        "\n",
        "assert tf.reduce_sum(binary_mask).numpy() == n_masked\n",
        "assert len(mask_inds.numpy()) == n_masked\n",
        "assert len(unmasked_inds.numpy()) == n_tokens - n_masked\n",
        "assert set(mask_inds.numpy()).isdisjoint(set(unmasked_inds.numpy()))"
      ]
    },
    {
      "cell_type": "code",
      "execution_count": null,
      "metadata": {
        "id": "AcQs7ippzVRI"
      },
      "outputs": [],
      "source": [
        "n_tokens = 6\n",
        "n_masked = 2\n",
        "existing_mask = tf.constant([1, 1, 1, 0, 0, 0], dtype=tf.int32)\n",
        "seed = 42\n",
        "\n",
        "try:\n",
        "  get_random_mask_afterinputmask_indices(n_tokens, n_masked, existing_mask, seed)\n",
        "  assert False\n",
        "except:\n",
        "  pass"
      ]
    },
    {
      "cell_type": "markdown",
      "metadata": {
        "id": "jSjpeFkn1B4G"
      },
      "source": [
        "# mask_example test"
      ]
    },
    {
      "cell_type": "code",
      "execution_count": null,
      "metadata": {
        "id": "ivry3E8G6YMw"
      },
      "outputs": [],
      "source": [
        "from importlib import reload\n",
        "from colabtools import adhoc_import\n",
        "\n",
        "with adhoc_import.Google3CitcClient(\n",
        "    'lsm3_bettermae_25_2_12', username='xumax', behavior='preferred'\n",
        "):\n",
        "  from google3.experimental.largesensormodels.scenic.datasets import dataset_utils\n",
        "  dataset_utils = reload(dataset_utils)\n",
        "  mask_example = dataset_utils.mask_example"
      ]
    },
    {
      "cell_type": "code",
      "execution_count": null,
      "metadata": {
        "id": "cORNbb5R6kAO"
      },
      "outputs": [],
      "source": [
        "example = {\n",
        "    \"imputation_mask\": tf.constant(\n",
        "            [[[0], [1], [0], [0]], [[1], [0], [0], [0]], [[0], [0], [1], [0]]], dtype=tf.int32\n",
        "        )\n",
        "}\n",
        "masking_configs = \"randomonexistmask_0.5\"\n",
        "seed = 42\n",
        "patch_size = (1, 1)\n",
        "input_size = (3, 4, 1)\n",
        "\n",
        "masked_example = mask_example(\n",
        "    example, masking_configs, seed=seed, patch_size=patch_size, input_size=input_size\n",
        ")\n",
        "\n",
        "assert \"mask_indices\" in masked_example\n",
        "assert \"unmasked_indices\" in masked_example\n",
        "assert \"token_mask\" in masked_example\n",
        "assert tf.reduce_sum(masked_example[\"token_mask\"]).numpy() == 6"
      ]
    },
    {
      "cell_type": "code",
      "execution_count": null,
      "metadata": {
        "id": "DhJnyR6i8ldS"
      },
      "outputs": [],
      "source": []
    },
    {
      "cell_type": "code",
      "execution_count": null,
      "metadata": {
        "id": "10OE1jEa8z8E"
      },
      "outputs": [],
      "source": []
    },
    {
      "cell_type": "code",
      "execution_count": null,
      "metadata": {
        "id": "9pz-Y2ob86Rp"
      },
      "outputs": [],
      "source": []
    }
  ],
  "metadata": {
    "colab": {
      "last_runtime": {
        "build_target": "//learning/deepmind/dm_python:dm_notebook3",
        "kind": "private"
      },
      "name": "datasets_lsm_v2_dataset_utils.ipynb",
      "private_outputs": true,
      "provenance": []
    },
    "kernelspec": {
      "display_name": "Python 3",
      "name": "python3"
    },
    "language_info": {
      "name": "python"
    }
  },
  "nbformat": 4,
  "nbformat_minor": 0
}
