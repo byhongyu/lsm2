{
  "cells": [
    {
      "cell_type": "code",
      "execution_count": null,
      "metadata": {
        "id": "ncCxJFk3YbjT"
      },
      "outputs": [],
      "source": [
        "# @title Imports\n",
        "# import pytest\n",
        "\n",
        "import functools\n",
        "import json\n",
        "\n",
        "from flax import jax_utils\n",
        "import jax\n",
        "import jax.numpy as jnp\n",
        "import matplotlib.pyplot as plt\n",
        "import ml_collections\n",
        "import numpy as np\n",
        "import pandas as pd\n",
        "import tensorflow as tf\n",
        "import tensorflow_datasets as tfds\n",
        "\n",
        "from google3.pyglib import build_data\n",
        "from google3.pyglib import gfile\n",
        "# build_data.Changelist()\n",
        "\n",
        "from colabtools import adhoc_import\n",
        "# this is necessary, otherwise breaks the adhoc_import.Google3CitcClient imports\n",
        "with adhoc_import.Google3():\n",
        "  from scenic.model_lib.base_models import base_model\n",
        "  from scenic.projects.multimask.models import model_utils as mm_model_utils\n",
        "  from scenic.model_lib.base_models import model_utils\n",
        "\n",
        "# this needs to run for some reason, otherwise adhoc_import.Google3CitcClient import breaks\n",
        "tf.data.Dataset"
      ]
    },
    {
      "cell_type": "code",
      "execution_count": null,
      "metadata": {
        "id": "8r4-_LAaYfw3"
      },
      "outputs": [],
      "source": [
        "from importlib import reload\n",
        "from colabtools import adhoc_import\n",
        "\n",
        "with adhoc_import.Google3CitcClient(\n",
        "    'lsm3_bettermae_25_2_12', username='xumax', behavior='preferred'\n",
        "):\n",
        "# ImportError: gRPC is not installed from please install the grpcio package to use the gRPC transport.\n",
        "  from google3.experimental.largesensormodels.scenic.trainers import lsm_mae_utils\n",
        "  lsm_mae_utils = reload(lsm_mae_utils)\n",
        "  train_step = lsm_mae_utils.train_step"
      ]
    },
    {
      "cell_type": "markdown",
      "metadata": {
        "id": "wZfr1BTbZAyB"
      },
      "source": [
        "TODO: ADD TESTS FOR train_step and evaluate_step"
      ]
    },
    {
      "cell_type": "code",
      "execution_count": null,
      "metadata": {
        "id": "NamRz64sZAfn"
      },
      "outputs": [],
      "source": []
    },
    {
      "cell_type": "code",
      "execution_count": null,
      "metadata": {
        "id": "QJ90aPOCY9vi"
      },
      "outputs": [],
      "source": []
    }
  ],
  "metadata": {
    "colab": {
      "last_runtime": {
        "build_target": "//learning/grp/tools/ml_python:ml_notebook",
        "kind": "private"
      },
      "private_outputs": true,
      "provenance": []
    },
    "kernelspec": {
      "display_name": "Python 3",
      "name": "python3"
    },
    "language_info": {
      "name": "python"
    }
  },
  "nbformat": 4,
  "nbformat_minor": 0
}
