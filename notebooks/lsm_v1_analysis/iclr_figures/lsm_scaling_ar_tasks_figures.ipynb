{
  "cells": [
    {
      "cell_type": "code",
      "execution_count": null,
      "metadata": {
        "id": "QTY4LtjIfbTD"
      },
      "outputs": [],
      "source": [
        "import os\n",
        "import re\n",
        "import tempfile\n",
        "import warnings\n",
        "import collections\n",
        "import numpy as np\n",
        "import pandas as pd\n",
        "import seaborn as sns\n",
        "import matplotlib as mpl\n",
        "import matplotlib.pyplot as plt\n",
        "\n",
        "from google3.learning.deepmind.xmanager2.client import xmanager_api\n",
        "from google3.pyglib import gfile\n",
        "from google3.pyglib.function_utils import memoize\n",
        "from matplotlib import font_manager\n",
        "\n",
        "import matplotlib.patches as mpatches\n",
        "import matplotlib.lines as mlines\n",
        "from matplotlib.lines import Line2D\n",
        "from matplotlib.ticker import FixedLocator  # Import for the fix\n",
        "from matplotlib.ticker import MaxNLocator\n",
        "from matplotlib.ticker import LogLocator\n",
        "from matplotlib.ticker import FuncFormatter"
      ]
    },
    {
      "cell_type": "code",
      "execution_count": null,
      "metadata": {
        "id": "pNZmOmu2fdPz"
      },
      "outputs": [],
      "source": [
        "#@title Google Sans Import\n",
        "\n",
        "# Import Google font family\n",
        "_GOOGLE_SANS_PATH = (\n",
        "    'google3/third_party/googlefonts/api/googlerestricted/googlesans/'\n",
        ")\n",
        "\n",
        "@memoize.Memoize()\n",
        "def import_google3_fonts(font_path: str) -\u003e None:\n",
        "  \"\"\"Import fonts stored in google3 into Matplotlib for use in Colab.\n",
        "\n",
        "  Args:\n",
        "    font_path: google3 path to either a directory that contains .ttf fonts or to\n",
        "      a specific .ttf font file.\n",
        "  \"\"\"\n",
        "  if gfile.IsDirectory(font_path):\n",
        "    # Create a temp directory as a destination for copied font files.\n",
        "    tmp_dir = tempfile.mkdtemp()\n",
        "    # Copy font files from google3 to temp dir.\n",
        "    gfile.RecursivelyCopyDir(font_path, tmp_dir, overwrite=True)\n",
        "    # Add font files in directory to matplotlib font_manager.\n",
        "    font_files = font_manager.findSystemFonts(fontpaths=tmp_dir)\n",
        "  else:\n",
        "    # Assume the path points to a file if it's not a directory.\n",
        "    # Copy ttf file from google3 to temp location.\n",
        "    tmp_file = tempfile.NamedTemporaryFile(suffix='.ttf')\n",
        "    tmp_file.close()\n",
        "    gfile.Copy(font_path, tmp_file.name)\n",
        "    font_files = [tmp_file.name]\n",
        "\n",
        "  # Add fonts to default font manager.\n",
        "  for font_file in font_files:\n",
        "    font_manager.fontManager.addfont(font_file)\n",
        "\n",
        "\n",
        "def import_default_google_fonts() -\u003e None:\n",
        "  \"\"\"Register a set of default fonts (Roboto, Google Sans) with Matplotlib.\"\"\"\n",
        "  # Prepend google_src to google3 paths.\n",
        "  import_google3_fonts(os.path.join('/google_src/head/depot', _GOOGLE_SANS_PATH))\n",
        "\n",
        "\n",
        "# Import and register Google fonts with Matplotlib so we can use them.\n",
        "import_default_google_fonts()"
      ]
    },
    {
      "cell_type": "code",
      "execution_count": null,
      "metadata": {
        "id": "Hzh4DG0fCRQO"
      },
      "outputs": [],
      "source": [
        "#@title Set up Plot Settings\n",
        "\n",
        "pd.set_option('display.max_rows', None)  # Show all rows\n",
        "pd.set_option('display.max_columns', None)  # Show all columns\n",
        "# Suppress specific warning\n",
        "warnings.filterwarnings(\"ignore\", category=UserWarning, module=\"matplotlib\")\n",
        "\n",
        "xm_client = xmanager_api.XManagerApi(xm_deployment_env='alphabet')\n",
        "MEDIUM_SIZE = 12\n",
        "mpl.rcParams.update({\n",
        "    'font.size': MEDIUM_SIZE,\n",
        "    'axes.labelsize': MEDIUM_SIZE,\n",
        "    'axes.titlesize': MEDIUM_SIZE,\n",
        "})\n",
        "plt.rcParams['font.size'] = MEDIUM_SIZE\n",
        "plt.rcParams['axes.linewidth'] = 1\n",
        "plt.rcParams['axes.edgecolor'] = '#777777'\n",
        "plt.rcParams['axes.facecolor'] = '#FFFFFF'\n",
        "plt.rc('font', size=MEDIUM_SIZE)  # controls default text sizes\n",
        "plt.rc('axes', titlesize=MEDIUM_SIZE)  # fontsize of the axes title\n",
        "plt.rc('axes', labelsize=MEDIUM_SIZE)  # fontsize of the x and y labels\n",
        "plt.rc('xtick', labelsize=MEDIUM_SIZE)  # fontsize of the tick labels\n",
        "plt.rc('ytick', labelsize=MEDIUM_SIZE)  # fontsize of the tick labels\n",
        "plt.rc('legend', fontsize=MEDIUM_SIZE-5)  # legend fontsize\n",
        "plt.rc('figure', titlesize=MEDIUM_SIZE)  # fontsize of the figure title\n",
        "\n",
        "elegant_palette = sns.color_palette('muted')\n",
        "mpl.rcParams['font.family'] = 'Google Sans'"
      ]
    },
    {
      "cell_type": "code",
      "execution_count": null,
      "metadata": {
        "id": "jpo8Qfq_gu2O"
      },
      "outputs": [],
      "source": [
        "# Create the figure and axes for the subplots\n",
        "def log_float_formatter(y, pos):\n",
        "    return f'{y:.2f}'\n",
        "\n",
        "#@title Data vs. Subject Scaling\n",
        "\n",
        "map_results = {\n",
        "    'num_of_shots': [1000*5, 10000*5, 100000*5, 750000*5, 1321235*5],\n",
        "    'lsm_ft_ed': [68.34999999996583, 73.84999999996307, 84.94999999995753, 87.44999999995628, 90.29999999995485],\n",
        "    'lsm_ft_ar': [51.50214592273099, 64.00980993253708, 68.79215205393353, 64.1630901287357, 68.48559166153633],\n",
        "    'lsm_lp_ar': [35.13182096872007, 39.607602697719315, 47.057020232971475, 47.60882893928645, 49.448191293669694],\n",
        "    'lsm_lp_ed': [60.5999999999697, 67.34999999996633, 84.54999999995772, 88.04999999995597, 84.69999999995765]\n",
        "    # 'supervised_baseline': [12.781144280731132, 13.56088290669249, 13.222288420289424, 15.153588158587056]\n",
        "}\n",
        "\n",
        "\n",
        "# df = pd.DataFrame(map_results)\n",
        "\n",
        "fig, axes = plt.subplots(1, 1, figsize=(3.4, 3), sharex=True, dpi=100)\n",
        "axes.set(xscale=\"log\", yscale=\"log\")\n",
        "# Create a color palette using the \"Blues\" color map\n",
        "palette = sns.color_palette(\"Blues\", n_colors=3)\n",
        "\n",
        "# Plot the lines with the \"Blues\" palette\n",
        "sns.lineplot(\n",
        "    data=map_results,\n",
        "    x='num_of_shots',\n",
        "    y='lsm_ft_ar',\n",
        "    color=palette[2],\n",
        "    marker='o',\n",
        "    label='Activity Recognition',\n",
        "    markersize=5,\n",
        "    linestyle='--',\n",
        ")\n",
        "\n",
        "sns.lineplot(\n",
        "    data=map_results,\n",
        "    x='num_of_shots',\n",
        "    y='lsm_ft_ed',\n",
        "    color=palette[1],\n",
        "    marker='o',\n",
        "    label='Exercise Detection',\n",
        "    markersize=5,\n",
        "    linestyle='--',\n",
        ")\n",
        "axes.yaxis.set_major_locator(LogLocator(base=10.0, subs=np.arange(1, 10), numticks=10))\n",
        "axes.yaxis.set_major_formatter(FuncFormatter(log_float_formatter))\n",
        "axes.xaxis.set_major_locator(LogLocator(base=10.0, subs=np.arange(1, 10), numticks=10))\n",
        "axes.set_ylabel('Accuracy (%)')\n",
        "axes.set_xlabel('Pretraining Data Size (Hours)')\n",
        "plt.legend(frameon=False, fontsize=MEDIUM_SIZE-2)\n",
        "plt.tight_layout()\n",
        "plt.savefig(\"/tmp/scaling_dis_acc.pdf\", bbox_inches='tight', format=\"pdf\")\n",
        "%download_file /tmp/scaling_dis_acc.pdf\n",
        "plt.show()\n"
      ]
    },
    {
      "cell_type": "code",
      "execution_count": null,
      "metadata": {
        "id": "3ZVcrTpVhBvJ"
      },
      "outputs": [],
      "source": []
    }
  ],
  "metadata": {
    "colab": {
      "last_runtime": {
        "build_target": "//learning/grp/tools/ml_python:ml_notebook",
        "kind": "private"
      },
      "name": "lsm_scaling_ar_tasks_figures.ipynb",
      "private_outputs": true,
      "provenance": [
        {
          "file_id": "/piper/depot/google3/experimental/largesensormodels/notebooks/iclr_figures/lsm_scaling_gen_dis_tasks_figures.ipynb",
          "timestamp": 1725898925093
        },
        {
          "file_id": "/piper/depot/google3/experimental/largesensormodels/notebooks/lsm_scaling_analys_final_iclr.ipynb?workspaceId=xliucs:scaling_analysis::citc",
          "timestamp": 1725479472885
        },
        {
          "file_id": "/piper/depot/google3/experimental/largesensormodels/notebooks/lsm_scaling_analys_final_iclr.ipynb",
          "timestamp": 1723509130272
        },
        {
          "file_id": "/piper/depot/google3/experimental/largesensormodels/notebooks/lsm_scaling_analys_data_size.ipynb?workspaceId=xliucs:scaling_analysis_new_pretrain::citc",
          "timestamp": 1723419354747
        },
        {
          "file_id": "/piper/depot/google3/experimental/largesensormodels/notebooks/lsm_scaling_analys_data_size.ipynb",
          "timestamp": 1723071326500
        },
        {
          "file_id": "1Q3nbnc5dYAV6pyHWeKKXRVbxMwBPPQuB",
          "timestamp": 1719441633704
        },
        {
          "file_id": "/piper/depot/google3/experimental/largesensormodels/notebooks/lsm_scaling_analys_data.ipynb",
          "timestamp": 1719435410567
        },
        {
          "file_id": "/piper/depot/google3/experimental/largesensormodels/notebooks/lsm_scaling_analysis_parameter_sweep.ipynb?workspaceId=xliucs:lsm_notebooks_scaling_june22::citc",
          "timestamp": 1719177613159
        },
        {
          "file_id": "1avNG7EtMynPa2U-GHj2nd4nWWdGzcFq3",
          "timestamp": 1719177577595
        },
        {
          "file_id": "1WdhekZ_TCf-uOIWufr8RjKRHUcB0jzoZ",
          "timestamp": 1719170535908
        },
        {
          "file_id": "1rMS2cnwRlpP6NSfAA_mDuXFnbLEc6UnM",
          "timestamp": 1718735304309
        }
      ]
    },
    "kernelspec": {
      "display_name": "Python 3",
      "name": "python3"
    },
    "language_info": {
      "name": "python"
    }
  },
  "nbformat": 4,
  "nbformat_minor": 0
}
