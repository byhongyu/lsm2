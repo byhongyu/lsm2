{
  "cells": [
    {
      "cell_type": "markdown",
      "metadata": {
        "id": "n__FnUvcnDsV"
      },
      "source": [
        "```\n",
        "This colab shows two examples of reading XM measurements.\n",
        "The first example is for XID and the second one is for XM Measurements.\n",
        "The second one is more widely used.\n",
        "\n",
        "Kernel: Brain Frameworks (CPU)\n",
        "Author: xliucs@\n",
        "```"
      ]
    },
    {
      "cell_type": "code",
      "execution_count": null,
      "metadata": {
        "id": "WsbUpHQxk0TU"
      },
      "outputs": [],
      "source": [
        "# @title Import \u0026 Metrics\n",
        "\n",
        "from google3.learning.deepmind.xdata import xdata\n",
        "from google3.learning.deepmind.xmanager2.client import xmanager_api\n",
        "\n",
        "metric_names = [\n",
        "    'random_imputation_0.8_eval/valid_mean_squared_error_masked_ignoreimp_mean',\n",
        "    'imputation_0.00695_eval/valid_mean_squared_error_masked_ignoreimp_mean',\n",
        "    'imputation_0.02084_eval/valid_mean_squared_error_masked_ignoreimp_mean',\n",
        "    'imputation_0.04167_eval/valid_mean_squared_error_masked_ignoreimp_mean',\n",
        "    'imputation_0.125_eval/valid_mean_squared_error_masked_ignoreimp_mean',\n",
        "    'forecast_0.00695_eval/valid_mean_squared_error_masked_ignoreimp_mean',\n",
        "    'forecast_0.02084_eval/valid_mean_squared_error_masked_ignoreimp_mean',\n",
        "    'forecast_0.04167_eval/valid_mean_squared_error_masked_ignoreimp_mean',\n",
        "    'forecast_0.125_eval/valid_mean_squared_error_masked_ignoreimp_mean',\n",
        "]"
      ]
    },
    {
      "cell_type": "markdown",
      "metadata": {
        "id": "i_MNeFTIgkVi"
      },
      "source": [
        "## XData"
      ]
    },
    {
      "cell_type": "code",
      "execution_count": null,
      "metadata": {
        "id": "4pGwulf6mz98"
      },
      "outputs": [],
      "source": [
        "def list_to_csv(data_list):\n",
        "  \"\"\"Converts a list of strings (representing numbers) to a CSV string.\n",
        "\n",
        "  Args:\n",
        "    data_list: A list of strings.\n",
        "\n",
        "  Returns:\n",
        "    A string in CSV format, where each element of the list is a cell.\n",
        "  \"\"\"\n",
        "  return ','.join(data_list)\n",
        "\n",
        "\n",
        "def get_xm_measurement_xdata(xm_id, wid, step, metric_name):\n",
        "  \"\"\"Get a XM measurement given a XID and WID\"\"\"\n",
        "  data_id = xdata.get_experiment_data_id(xm_id)\n",
        "\n",
        "  reader = xdata.bt.reader(data_id, 'data')\n",
        "  df = reader.read_dataframe()\n",
        "\n",
        "  xid_df = df[df['XManager/wid'] == wid]\n",
        "  step_df = xid_df[xid_df['XManager/step'] == step]\n",
        "  return step_df[metric_name][step_df[metric_name].notna()].values[0]"
      ]
    },
    {
      "cell_type": "code",
      "execution_count": null,
      "metadata": {
        "id": "7ym9tET1m8vV"
      },
      "outputs": [],
      "source": [
        "xm_id = 159953159\n",
        "wid = 5\n",
        "step = 1e5\n",
        "print('XM ID: ', xm_id)\n",
        "print('WID: ', wid)\n",
        "print('Step: ', step)\n",
        "print('-----------')\n",
        "values = []\n",
        "for metric_name in metric_names:\n",
        "  metric = get_xm_measurement_xdata(xm_id, wid, step, metric_name)\n",
        "  print(f'{metric_name}: {metric:.2f}')\n",
        "  values.append(f'{metric:.2f}')\n",
        "\n",
        "print(list_to_csv(values))"
      ]
    },
    {
      "cell_type": "markdown",
      "metadata": {
        "id": "uZYIAuVhi5Lo"
      },
      "source": [
        "## XMeasurements"
      ]
    },
    {
      "cell_type": "code",
      "execution_count": null,
      "metadata": {
        "id": "DsqvyMDJsypg"
      },
      "outputs": [],
      "source": [
        "xm_client = xmanager_api.XManagerApi(xm_deployment_env='alphabet')\n",
        "\n",
        "\n",
        "def read_xm_metrics(example_xid, unit_id, metric_name, lowest=False):\n",
        "  experiment = xm_client.get_experiment(example_xid)\n",
        "  work_unit = experiment.get_work_unit(unit_id)\n",
        "  all_series = work_unit.list_measurement_series()\n",
        "  # Read measurement series metadata.\n",
        "  for series in all_series:\n",
        "    if metric_name in series.label:\n",
        "      # Read measurement points data.\n",
        "      all_measurements = []\n",
        "      for measurement in series.measurements:\n",
        "        all_measurements.append(measurement.objective_value)\n",
        "      if lowest:\n",
        "        return min(all_measurements)\n",
        "      else:\n",
        "        return all_measurements[-1]"
      ]
    },
    {
      "cell_type": "code",
      "execution_count": null,
      "metadata": {
        "id": "hmuRpg-MlUQ9"
      },
      "outputs": [],
      "source": [
        "xm_id = 156612934\n",
        "wid = 1\n",
        "for metric_name in metric_names:\n",
        "  metric = read_xm_metrics(xm_id, wid, metric_name, lowest=False)\n",
        "  print(f'{metric_name}: {metric:.2f}')\n",
        "  values.append(f'{metric:.2f}')\n",
        "print(list_to_csv(values))"
      ]
    }
  ],
  "metadata": {
    "colab": {
      "last_runtime": {
        "build_target": "//learning/deepmind/dm_python:dm_notebook3",
        "kind": "private"
      },
      "private_outputs": true,
      "provenance": [
        {
          "file_id": "/piper/depot/google3/experimental/largesensormodels/notebooks/lsm_v2_xm_measurements.ipynb",
          "timestamp": 1744904420856
        },
        {
          "file_id": "1UfySrKSdi6Iq9A_xSTwhjr_aY0U3g47I",
          "timestamp": 1743280544152
        }
      ]
    },
    "kernelspec": {
      "display_name": "Python 3",
      "name": "python3"
    },
    "language_info": {
      "name": "python"
    }
  },
  "nbformat": 4,
  "nbformat_minor": 0
}
